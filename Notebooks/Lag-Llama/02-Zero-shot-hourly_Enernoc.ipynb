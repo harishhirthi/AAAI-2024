{
 "cells": [
  {
   "cell_type": "code",
   "execution_count": 1,
   "id": "e2618c9e-76ac-4213-9658-d857655307ab",
   "metadata": {},
   "outputs": [
    {
     "name": "stdout",
     "output_type": "stream",
     "text": [
      "/home/user/energygpt/lagllama/lag-llama\n"
     ]
    },
    {
     "name": "stderr",
     "output_type": "stream",
     "text": [
      "/home/user/miniconda3/envs/lagllama/lib/python3.10/site-packages/IPython/core/magics/osm.py:417: UserWarning: This is now an optional IPython functionality, setting dhist requires you to install the `pickleshare` library.\n",
      "  self.shell.db['dhist'] = compress_dhist(dhist)[-100:]\n"
     ]
    }
   ],
   "source": [
    "cd lag-llama"
   ]
  },
  {
   "cell_type": "code",
   "execution_count": 2,
   "id": "9d2196c3-1c51-45e9-b18e-29151abaa1a7",
   "metadata": {},
   "outputs": [],
   "source": [
    "import os\n",
    "import glob\n",
    "from collections import defaultdict\n",
    "from datetime import datetime\n",
    "from itertools import islice\n",
    "\n",
    "from matplotlib import pyplot as plt\n",
    "import matplotlib.dates as mdates\n",
    "\n",
    "import torch\n",
    "from gluonts.evaluation import make_evaluation_predictions, Evaluator\n",
    "from gluonts.dataset.repository.datasets import get_dataset\n",
    "\n",
    "from gluonts.dataset.pandas import PandasDataset\n",
    "import pandas as pd\n",
    "\n",
    "from lag_llama.gluon.estimator import LagLlamaEstimator\n",
    "\n",
    "import warnings  \n",
    "warnings.filterwarnings('ignore') \n"
   ]
  },
  {
   "cell_type": "code",
   "execution_count": 3,
   "id": "870e8c65-4beb-4e89-95ec-b52fc3b2f725",
   "metadata": {},
   "outputs": [],
   "source": [
    "def get_lag_llama_predictions(dataset, prediction_length, device, context_length=168, use_rope_scaling=False, num_samples=100):\n",
    "    ckpt = torch.load(\"./checkpoints/lag-llama.ckpt\", map_location=device) # Uses GPU since in this Colab we use a GPU.\n",
    "    estimator_args = ckpt[\"hyper_parameters\"][\"model_kwargs\"]\n",
    "\n",
    "    rope_scaling_arguments = {\n",
    "        \"type\": \"linear\",\n",
    "        \"factor\": max(1.0, (context_length + prediction_length) / estimator_args[\"context_length\"]),\n",
    "    }\n",
    "\n",
    "    estimator = LagLlamaEstimator(\n",
    "        ckpt_path=\"./checkpoints/lag-llama.ckpt\",\n",
    "        prediction_length=prediction_length,\n",
    "        context_length=context_length, # Lag-Llama was trained with a context length of 32, but can work with any context length\n",
    "\n",
    "        # estimator args\n",
    "        input_size=estimator_args[\"input_size\"],\n",
    "        n_layer=estimator_args[\"n_layer\"],\n",
    "        n_embd_per_head=estimator_args[\"n_embd_per_head\"],\n",
    "        n_head=estimator_args[\"n_head\"],\n",
    "        scaling=estimator_args[\"scaling\"],\n",
    "        time_feat=estimator_args[\"time_feat\"],\n",
    "        rope_scaling=rope_scaling_arguments if use_rope_scaling else None,\n",
    "\n",
    "        batch_size=32,\n",
    "        num_parallel_samples=100,\n",
    "        device=device,\n",
    "    )\n",
    "\n",
    "    lightning_module = estimator.create_lightning_module()\n",
    "    transformation = estimator.create_transformation()\n",
    "    predictor = estimator.create_predictor(transformation, lightning_module)\n",
    "\n",
    "    forecast_it, ts_it = make_evaluation_predictions(\n",
    "        dataset=dataset,\n",
    "        predictor=predictor,\n",
    "        num_samples=num_samples\n",
    "    )\n",
    "    forecasts = list(forecast_it)\n",
    "    tss = list(ts_it)\n",
    "\n",
    "    return forecasts, tss"
   ]
  },
  {
   "cell_type": "code",
   "execution_count": null,
   "id": "c52f3138-873b-4022-98e2-0d4853d3a657",
   "metadata": {},
   "outputs": [],
   "source": [
    "# Data pipelining\n",
    "def get_batched_data_fn(sub_df,\n",
    "    batch_size: int = 128, \n",
    "    context_len: int = 168, \n",
    "    horizon_len: int = 24):\n",
    "    \n",
    "    examples = defaultdict(list)\n",
    "    num_examples = 0\n",
    "    for start in range(0, len(sub_df) - (context_len + horizon_len), horizon_len):\n",
    "      num_examples += 1\n",
    "      #examples[\"country\"].append(country)\n",
    "      examples[\"inputs\"].append(sub_df[\"y\"][start:(context_end := start + context_len)].tolist())\n",
    "      #examples[\"gen_forecast\"].append(sub_df[\"gen_forecast\"][start:context_end + horizon_len].tolist())\n",
    "      #examples[\"week_day\"].append(sub_df[\"week_day\"][start:context_end + horizon_len].tolist())\n",
    "      examples[\"outputs\"].append(sub_df[\"y\"][context_end:(context_end + horizon_len)].tolist())\n",
    "      examples['inputs_ts'].append(sub_df.index[start:(context_end := start + context_len)])\n",
    "      examples[\"outputs_ts\"].append(sub_df.index[context_end:(context_end + horizon_len)])\n",
    "\n",
    "    return examples"
   ]
  },
  {
   "cell_type": "code",
   "execution_count": null,
   "id": "5883f655-b1ee-44f9-9ee0-0c5b941f6832",
   "metadata": {},
   "outputs": [],
   "source": [
    "def forecast_building(df):\n",
    "\n",
    "    # Set numerical columns as float32\n",
    "    for col in df.columns:\n",
    "        # Check if column is not of string type\n",
    "        if df[col].dtype != 'object' and pd.api.types.is_string_dtype(df[col]) == False:\n",
    "            df[col] = df[col].astype('float32')\n",
    "    \n",
    "    # Create the Pandas\n",
    "    dataset = PandasDataset.from_long_dataframe(df, target=\"target\", item_id=\"item_id\")\n",
    "    \n",
    "    backtest_dataset = dataset\n",
    "    prediction_length = 24  # Define your prediction length. We use 24 here since the data is of hourly frequency\n",
    "    num_samples = 10 # number of samples sampled from the probability distribution for each timestep\n",
    "    device = torch.device(\"cuda:0\") # You can switch this to CPU or other GPUs if you'd like, depending on your environment    \n",
    "    \n",
    "    ckpt = torch.load(\"./checkpoints/lag-llama.ckpt\", map_location=device) # Uses GPU since in this Colab we use a GPU.\n",
    "\n",
    "    forecasts, tss = get_lag_llama_predictions(backtest_dataset, prediction_length, device, num_samples=num_samples)\n",
    "\n",
    "    evaluator = Evaluator()\n",
    "    agg_metrics, ts_metrics = evaluator(iter(tss), iter(forecasts))     \n",
    "    \n",
    "    res_all = []\n",
    "    for ts, fc in zip(tss, forecasts):\n",
    "        res = ts[ts.index.isin(fc.index)]\n",
    "        res.columns = ['y_true']\n",
    "        res.insert(1, 'y_pred', fc.median)\n",
    "        res_all.append(res)\n",
    "    res_all_df = pd.concat(res_all).sort_index()\n",
    "    return res_all_df, agg_metrics, ts_metrics \n",
    "\n",
    "    \n",
    "def process_building(df): \n",
    "    building_name = df.columns[0]\n",
    "    df.columns = ['y']\n",
    "    input_data = get_batched_data_fn(df, batch_size=500)\n",
    "    \n",
    "    windows_all = []\n",
    "    counter = 1\n",
    "    for inputs_ts, inputs, outputs_ts, outputs in zip(input_data['inputs_ts'], \n",
    "                                                      input_data['inputs'], \n",
    "                                                      input_data['outputs_ts'], \n",
    "                                                      input_data['outputs']):\n",
    "        \n",
    "        input_df = pd.DataFrame({'timestamp': inputs_ts, \n",
    "                                 'target': inputs})\n",
    "        \n",
    "        output_df = pd.DataFrame({'timestamp': outputs_ts, \n",
    "                                 'target': outputs})\n",
    "        combined = pd.concat([input_df, output_df], axis=0)\n",
    "        combined['item_id'] = str(building_name) + '_' + str(counter)\n",
    "        combined['item_id_no'] = counter\n",
    "        counter += 1\n",
    "        windows_all.append(combined)\n",
    "        \n",
    "    windows_all_df = pd.concat(windows_all)\n",
    "    windows_all_df.timestamp = pd.to_datetime(windows_all_df.timestamp)\n",
    "    windows_all_df.set_index('timestamp', inplace=True)\n",
    "\n",
    "    res, agg_metrics, ts_metrics = forecast_building(windows_all_df)\n",
    "    return res, agg_metrics, ts_metrics\n",
    "\n",
    "\n",
    "# Benchmark\n",
    "batch_size = 32\n",
    "context_len = 168\n",
    "horizon_len = 24\n",
    "\n",
    "def process_file(filename):\n",
    "    df = pd.read_csv(filename)\n",
    "    df = df.set_index(['timestamp'])\n",
    "\n",
    "    if df.shape[1] < 2:\n",
    "        return None\n",
    "        \n",
    "    print(datetime.now(), df.shape, flush=True)\n",
    "\n",
    "    res_all = []\n",
    "    agg_metrics_all = []\n",
    "    ts_metrics_all = []\n",
    "    \n",
    "    i = 0\n",
    "    for building_name in df.columns:\n",
    "        print(datetime.now(), i, '/', len(df.columns), building_name, flush=True)\n",
    "        df1 = df[[building_name]]#.head(24*200)\n",
    "\n",
    "        res, agg_metrics, ts_metrics = process_building(df1)\n",
    "        res['building'] = building_name\n",
    "        res['filename'] = filename\n",
    "        res_all.append(res)\n",
    "        \n",
    "        ts_metrics.insert(0, 'building', building_name)\n",
    "        ts_metrics.insert(0, 'filename', filename)\n",
    "        ts_metrics = ts_metrics.sort_values(['forecast_start'])\n",
    "        ts_metrics_all.append(ts_metrics)\n",
    "        \n",
    "        agg_metrics_df = pd.DataFrame([agg_metrics])\n",
    "        agg_metrics_df.insert(0, 'building', building_name)\n",
    "        agg_metrics_df.insert(0, 'filename', filename)\n",
    "        agg_metrics_all.append(agg_metrics_df)\n",
    "\n",
    "        i += 1\n",
    "        if i % 10 == 0:\n",
    "            print(datetime.now(), 'Saving...')\n",
    "            res_all_df = pd.concat(res_all).round(6)\n",
    "            res_all_df = res_all_df.reset_index()\n",
    "            res_all_df = res_all_df.rename(columns={res_all_df.columns[0]: \"timestamp\" })\n",
    "            res_all_df.to_csv(f'../forecasts/{dataset}/{os.path.basename(filename)}', index=False)            \n",
    "\n",
    "            ts_metrics_all_df = pd.concat(ts_metrics_all).round(6)\n",
    "            ts_metrics_all_df.to_csv(f'../results/{dataset}/ts_metrics_{os.path.basename(filename)}', index=False)            \n",
    "\n",
    "            agg_metrics_all_df = pd.concat(agg_metrics_all).round(6)            \n",
    "            agg_metrics_all_df.to_csv(f'../results/{dataset}/agg_metrics_{os.path.basename(filename)}', index=False)            \n",
    "    \n",
    "    \n",
    "    res_all_df = pd.concat(res_all).round(6)\n",
    "    res_all_df = res_all_df.reset_index()\n",
    "    res_all_df = res_all_df.rename(columns={res_all_df.columns[0]: \"timestamp\" })\n",
    "    res_all_df.to_csv(f'../forecasts/{dataset}/{os.path.basename(filename)}', index=False)            \n",
    "\n",
    "    ts_metrics_all_df = pd.concat(ts_metrics_all).round(6)    \n",
    "    ts_metrics_all_df.to_csv(f'../results/{dataset}/ts_metrics_{os.path.basename(filename)}', index=False)            \n",
    "\n",
    "    agg_metrics_all_df = pd.concat(agg_metrics_all).round(6)   \n",
    "    agg_metrics_all_df.to_csv(f'../results/{dataset}/agg_metrics_{os.path.basename(filename)}', index=False)                \n",
    "\n",
    "    return res_all_df, ts_metrics_all_df, agg_metrics_all_df"
   ]
  },
  {
   "cell_type": "code",
   "execution_count": 18,
   "id": "398d57ea-ddb6-40d9-a776-f81cdc9d9c89",
   "metadata": {
    "scrolled": true
   },
   "outputs": [
    {
     "name": "stdout",
     "output_type": "stream",
     "text": [
      "2024-10-26 09:14:41.001636 /home/user/New_Buildings_Datasets/Enernoc/csv-only/processed/enernoc.csv\n",
      "2024-10-26 09:14:41.120945 (8785, 100)\n",
      "2024-10-26 09:14:41.121935 0 / 100 767\n"
     ]
    },
    {
     "name": "stderr",
     "output_type": "stream",
     "text": [
      "Running evaluation: 359it [00:00, 7185.49it/s]\n",
      "/home/user/miniconda3/envs/lagllama/lib/python3.10/site-packages/gluonts/evaluation/metrics.py:105: RuntimeWarning: divide by zero encountered in double_scalars\n",
      "  return np.mean(np.abs(target - forecast)) / seasonal_error\n",
      "/home/user/miniconda3/envs/lagllama/lib/python3.10/site-packages/gluonts/evaluation/_base.py:425: RuntimeWarning: divide by zero encountered in float_scalars\n",
      "  metrics[\"ND\"] = cast(float, metrics[\"abs_error\"]) / cast(\n",
      "/home/user/miniconda3/envs/lagllama/lib/python3.10/site-packages/gluonts/evaluation/metrics.py:154: RuntimeWarning: divide by zero encountered in double_scalars\n",
      "  return numerator / seasonal_error\n",
      "/home/user/miniconda3/envs/lagllama/lib/python3.10/site-packages/gluonts/evaluation/metrics.py:105: RuntimeWarning: divide by zero encountered in double_scalars\n",
      "  return np.mean(np.abs(target - forecast)) / seasonal_error\n",
      "/home/user/miniconda3/envs/lagllama/lib/python3.10/site-packages/gluonts/evaluation/_base.py:425: RuntimeWarning: divide by zero encountered in float_scalars\n",
      "  metrics[\"ND\"] = cast(float, metrics[\"abs_error\"]) / cast(\n",
      "/home/user/miniconda3/envs/lagllama/lib/python3.10/site-packages/gluonts/evaluation/metrics.py:154: RuntimeWarning: divide by zero encountered in double_scalars\n",
      "  return numerator / seasonal_error\n",
      "/home/user/miniconda3/envs/lagllama/lib/python3.10/site-packages/gluonts/evaluation/metrics.py:105: RuntimeWarning: divide by zero encountered in double_scalars\n",
      "  return np.mean(np.abs(target - forecast)) / seasonal_error\n",
      "/home/user/miniconda3/envs/lagllama/lib/python3.10/site-packages/gluonts/evaluation/metrics.py:154: RuntimeWarning: divide by zero encountered in double_scalars\n",
      "  return numerator / seasonal_error\n",
      "/home/user/miniconda3/envs/lagllama/lib/python3.10/site-packages/gluonts/evaluation/metrics.py:105: RuntimeWarning: divide by zero encountered in double_scalars\n",
      "  return np.mean(np.abs(target - forecast)) / seasonal_error\n",
      "/home/user/miniconda3/envs/lagllama/lib/python3.10/site-packages/gluonts/evaluation/_base.py:425: RuntimeWarning: divide by zero encountered in float_scalars\n",
      "  metrics[\"ND\"] = cast(float, metrics[\"abs_error\"]) / cast(\n",
      "/home/user/miniconda3/envs/lagllama/lib/python3.10/site-packages/gluonts/evaluation/metrics.py:154: RuntimeWarning: divide by zero encountered in double_scalars\n",
      "  return numerator / seasonal_error\n",
      "/home/user/miniconda3/envs/lagllama/lib/python3.10/site-packages/gluonts/evaluation/metrics.py:105: RuntimeWarning: divide by zero encountered in double_scalars\n",
      "  return np.mean(np.abs(target - forecast)) / seasonal_error\n",
      "/home/user/miniconda3/envs/lagllama/lib/python3.10/site-packages/gluonts/evaluation/_base.py:425: RuntimeWarning: divide by zero encountered in float_scalars\n",
      "  metrics[\"ND\"] = cast(float, metrics[\"abs_error\"]) / cast(\n",
      "/home/user/miniconda3/envs/lagllama/lib/python3.10/site-packages/gluonts/evaluation/metrics.py:154: RuntimeWarning: divide by zero encountered in double_scalars\n",
      "  return numerator / seasonal_error\n"
     ]
    },
    {
     "name": "stdout",
     "output_type": "stream",
     "text": [
      "2024-10-26 09:15:20.119480 1 / 100 304\n"
     ]
    },
    {
     "name": "stderr",
     "output_type": "stream",
     "text": [
      "Running evaluation: 359it [00:00, 8140.80it/s]\n"
     ]
    },
    {
     "name": "stdout",
     "output_type": "stream",
     "text": [
      "2024-10-26 09:15:59.311033 2 / 100 399\n"
     ]
    },
    {
     "name": "stderr",
     "output_type": "stream",
     "text": [
      "Running evaluation: 359it [00:00, 8086.24it/s]\n"
     ]
    },
    {
     "name": "stdout",
     "output_type": "stream",
     "text": [
      "2024-10-26 09:16:38.337258 3 / 100 21\n"
     ]
    },
    {
     "name": "stderr",
     "output_type": "stream",
     "text": [
      "Running evaluation: 359it [00:00, 8454.26it/s]\n"
     ]
    },
    {
     "name": "stdout",
     "output_type": "stream",
     "text": [
      "2024-10-26 09:17:15.821050 4 / 100 805\n"
     ]
    },
    {
     "name": "stderr",
     "output_type": "stream",
     "text": [
      "Running evaluation: 359it [00:00, 8471.20it/s]\n"
     ]
    },
    {
     "name": "stdout",
     "output_type": "stream",
     "text": [
      "2024-10-26 09:17:53.495742 5 / 100 14\n"
     ]
    },
    {
     "name": "stderr",
     "output_type": "stream",
     "text": [
      "Running evaluation: 359it [00:00, 7860.04it/s]\n"
     ]
    },
    {
     "name": "stdout",
     "output_type": "stream",
     "text": [
      "2024-10-26 09:18:30.981611 6 / 100 404\n"
     ]
    },
    {
     "name": "stderr",
     "output_type": "stream",
     "text": [
      "Running evaluation: 359it [00:00, 7562.69it/s]\n"
     ]
    },
    {
     "name": "stdout",
     "output_type": "stream",
     "text": [
      "2024-10-26 09:19:08.319520 7 / 100 78\n"
     ]
    },
    {
     "name": "stderr",
     "output_type": "stream",
     "text": [
      "Running evaluation: 359it [00:00, 7647.39it/s]\n"
     ]
    },
    {
     "name": "stdout",
     "output_type": "stream",
     "text": [
      "2024-10-26 09:19:45.719769 8 / 100 731\n"
     ]
    },
    {
     "name": "stderr",
     "output_type": "stream",
     "text": [
      "Running evaluation: 359it [00:00, 7142.58it/s]\n"
     ]
    },
    {
     "name": "stdout",
     "output_type": "stream",
     "text": [
      "2024-10-26 09:20:23.021996 9 / 100 218\n"
     ]
    },
    {
     "name": "stderr",
     "output_type": "stream",
     "text": [
      "Running evaluation: 359it [00:00, 7706.53it/s]\n"
     ]
    },
    {
     "name": "stdout",
     "output_type": "stream",
     "text": [
      "2024-10-26 09:21:00.525866 Saving...\n",
      "2024-10-26 09:21:01.211069 10 / 100 366\n"
     ]
    },
    {
     "name": "stderr",
     "output_type": "stream",
     "text": [
      "Running evaluation: 359it [00:00, 7071.36it/s]\n"
     ]
    },
    {
     "name": "stdout",
     "output_type": "stream",
     "text": [
      "2024-10-26 09:21:38.682412 11 / 100 766\n"
     ]
    },
    {
     "name": "stderr",
     "output_type": "stream",
     "text": [
      "Running evaluation: 359it [00:00, 7889.11it/s]\n"
     ]
    },
    {
     "name": "stdout",
     "output_type": "stream",
     "text": [
      "2024-10-26 09:22:15.962937 12 / 100 197\n"
     ]
    },
    {
     "name": "stderr",
     "output_type": "stream",
     "text": [
      "Running evaluation: 359it [00:00, 7791.51it/s]\n"
     ]
    },
    {
     "name": "stdout",
     "output_type": "stream",
     "text": [
      "2024-10-26 09:22:53.522421 13 / 100 30\n"
     ]
    },
    {
     "name": "stderr",
     "output_type": "stream",
     "text": [
      "Running evaluation: 359it [00:00, 7211.09it/s]\n"
     ]
    },
    {
     "name": "stdout",
     "output_type": "stream",
     "text": [
      "2024-10-26 09:23:30.996074 14 / 100 742\n"
     ]
    },
    {
     "name": "stderr",
     "output_type": "stream",
     "text": [
      "Running evaluation: 359it [00:00, 7349.99it/s]\n"
     ]
    },
    {
     "name": "stdout",
     "output_type": "stream",
     "text": [
      "2024-10-26 09:24:08.236741 15 / 100 32\n"
     ]
    },
    {
     "name": "stderr",
     "output_type": "stream",
     "text": [
      "Running evaluation: 359it [00:00, 7519.53it/s]\n"
     ]
    },
    {
     "name": "stdout",
     "output_type": "stream",
     "text": [
      "2024-10-26 09:24:45.634137 16 / 100 137\n"
     ]
    },
    {
     "name": "stderr",
     "output_type": "stream",
     "text": [
      "Running evaluation: 359it [00:00, 7894.57it/s]\n",
      "/home/user/miniconda3/envs/lagllama/lib/python3.10/site-packages/gluonts/evaluation/_base.py:425: RuntimeWarning: divide by zero encountered in float_scalars\n",
      "  metrics[\"ND\"] = cast(float, metrics[\"abs_error\"]) / cast(\n",
      "/home/user/miniconda3/envs/lagllama/lib/python3.10/site-packages/gluonts/evaluation/_base.py:425: RuntimeWarning: divide by zero encountered in float_scalars\n",
      "  metrics[\"ND\"] = cast(float, metrics[\"abs_error\"]) / cast(\n"
     ]
    },
    {
     "name": "stdout",
     "output_type": "stream",
     "text": [
      "2024-10-26 09:25:23.212426 17 / 100 36\n"
     ]
    },
    {
     "name": "stderr",
     "output_type": "stream",
     "text": [
      "Running evaluation: 359it [00:00, 7436.89it/s]\n"
     ]
    },
    {
     "name": "stdout",
     "output_type": "stream",
     "text": [
      "2024-10-26 09:26:01.332486 18 / 100 9\n"
     ]
    },
    {
     "name": "stderr",
     "output_type": "stream",
     "text": [
      "Running evaluation: 359it [00:00, 7828.00it/s]\n",
      "/home/user/miniconda3/envs/lagllama/lib/python3.10/site-packages/gluonts/evaluation/_base.py:425: RuntimeWarning: divide by zero encountered in float_scalars\n",
      "  metrics[\"ND\"] = cast(float, metrics[\"abs_error\"]) / cast(\n",
      "/home/user/miniconda3/envs/lagllama/lib/python3.10/site-packages/gluonts/evaluation/_base.py:425: RuntimeWarning: divide by zero encountered in float_scalars\n",
      "  metrics[\"ND\"] = cast(float, metrics[\"abs_error\"]) / cast(\n",
      "/home/user/miniconda3/envs/lagllama/lib/python3.10/site-packages/gluonts/evaluation/_base.py:425: RuntimeWarning: divide by zero encountered in float_scalars\n",
      "  metrics[\"ND\"] = cast(float, metrics[\"abs_error\"]) / cast(\n"
     ]
    },
    {
     "name": "stdout",
     "output_type": "stream",
     "text": [
      "2024-10-26 09:26:39.568330 19 / 100 808\n"
     ]
    },
    {
     "name": "stderr",
     "output_type": "stream",
     "text": [
      "Running evaluation: 359it [00:00, 7994.20it/s]\n"
     ]
    },
    {
     "name": "stdout",
     "output_type": "stream",
     "text": [
      "2024-10-26 09:27:16.913583 Saving...\n",
      "2024-10-26 09:27:18.242584 20 / 100 391\n"
     ]
    },
    {
     "name": "stderr",
     "output_type": "stream",
     "text": [
      "Running evaluation: 359it [00:00, 8072.41it/s]\n"
     ]
    },
    {
     "name": "stdout",
     "output_type": "stream",
     "text": [
      "2024-10-26 09:27:55.474530 21 / 100 213\n"
     ]
    },
    {
     "name": "stderr",
     "output_type": "stream",
     "text": [
      "Running evaluation: 359it [00:00, 8016.93it/s]\n"
     ]
    },
    {
     "name": "stdout",
     "output_type": "stream",
     "text": [
      "2024-10-26 09:28:34.340434 22 / 100 236\n"
     ]
    },
    {
     "name": "stderr",
     "output_type": "stream",
     "text": [
      "Running evaluation: 359it [00:00, 8027.78it/s]\n"
     ]
    },
    {
     "name": "stdout",
     "output_type": "stream",
     "text": [
      "2024-10-26 09:29:12.061688 23 / 100 6\n"
     ]
    },
    {
     "name": "stderr",
     "output_type": "stream",
     "text": [
      "Running evaluation: 359it [00:00, 7496.50it/s]\n"
     ]
    },
    {
     "name": "stdout",
     "output_type": "stream",
     "text": [
      "2024-10-26 09:29:50.610193 24 / 100 224\n"
     ]
    },
    {
     "name": "stderr",
     "output_type": "stream",
     "text": [
      "Running evaluation: 359it [00:00, 7928.78it/s]\n"
     ]
    },
    {
     "name": "stdout",
     "output_type": "stream",
     "text": [
      "2024-10-26 09:30:29.193223 25 / 100 45\n"
     ]
    },
    {
     "name": "stderr",
     "output_type": "stream",
     "text": [
      "Running evaluation: 359it [00:00, 8584.84it/s]\n"
     ]
    },
    {
     "name": "stdout",
     "output_type": "stream",
     "text": [
      "2024-10-26 09:31:06.867238 26 / 100 771\n"
     ]
    },
    {
     "name": "stderr",
     "output_type": "stream",
     "text": [
      "Running evaluation: 359it [00:00, 7018.59it/s]\n"
     ]
    },
    {
     "name": "stdout",
     "output_type": "stream",
     "text": [
      "2024-10-26 09:31:46.826132 27 / 100 492\n"
     ]
    },
    {
     "name": "stderr",
     "output_type": "stream",
     "text": [
      "Running evaluation: 359it [00:00, 7606.44it/s]\n"
     ]
    },
    {
     "name": "stdout",
     "output_type": "stream",
     "text": [
      "2024-10-26 09:32:27.563125 28 / 100 384\n"
     ]
    },
    {
     "name": "stderr",
     "output_type": "stream",
     "text": [
      "Running evaluation: 359it [00:00, 8176.25it/s]\n"
     ]
    },
    {
     "name": "stdout",
     "output_type": "stream",
     "text": [
      "2024-10-26 09:33:04.859523 29 / 100 153\n"
     ]
    },
    {
     "name": "stderr",
     "output_type": "stream",
     "text": [
      "Running evaluation: 359it [00:00, 8228.08it/s]\n"
     ]
    },
    {
     "name": "stdout",
     "output_type": "stream",
     "text": [
      "2024-10-26 09:33:43.545356 Saving...\n",
      "2024-10-26 09:33:45.436390 30 / 100 136\n"
     ]
    },
    {
     "name": "stderr",
     "output_type": "stream",
     "text": [
      "Running evaluation: 359it [00:00, 7929.16it/s]\n"
     ]
    },
    {
     "name": "stdout",
     "output_type": "stream",
     "text": [
      "2024-10-26 09:34:25.406422 31 / 100 386\n"
     ]
    },
    {
     "name": "stderr",
     "output_type": "stream",
     "text": [
      "Running evaluation: 359it [00:00, 7644.90it/s]\n"
     ]
    },
    {
     "name": "stdout",
     "output_type": "stream",
     "text": [
      "2024-10-26 09:35:04.635624 32 / 100 51\n"
     ]
    },
    {
     "name": "stderr",
     "output_type": "stream",
     "text": [
      "Running evaluation: 359it [00:00, 8585.13it/s]\n"
     ]
    },
    {
     "name": "stdout",
     "output_type": "stream",
     "text": [
      "2024-10-26 09:35:43.697803 33 / 100 472\n"
     ]
    },
    {
     "name": "stderr",
     "output_type": "stream",
     "text": [
      "Running evaluation: 359it [00:00, 7444.87it/s]\n"
     ]
    },
    {
     "name": "stdout",
     "output_type": "stream",
     "text": [
      "2024-10-26 09:36:22.318891 34 / 100 281\n"
     ]
    },
    {
     "name": "stderr",
     "output_type": "stream",
     "text": [
      "Running evaluation: 359it [00:00, 7177.30it/s]\n"
     ]
    },
    {
     "name": "stdout",
     "output_type": "stream",
     "text": [
      "2024-10-26 09:37:00.999083 35 / 100 474\n"
     ]
    },
    {
     "name": "stderr",
     "output_type": "stream",
     "text": [
      "Running evaluation: 359it [00:00, 8231.95it/s]\n"
     ]
    },
    {
     "name": "stdout",
     "output_type": "stream",
     "text": [
      "2024-10-26 09:37:38.399341 36 / 100 697\n"
     ]
    },
    {
     "name": "stderr",
     "output_type": "stream",
     "text": [
      "Running evaluation: 359it [00:00, 8313.53it/s]\n"
     ]
    },
    {
     "name": "stdout",
     "output_type": "stream",
     "text": [
      "2024-10-26 09:38:15.273499 37 / 100 49\n"
     ]
    },
    {
     "name": "stderr",
     "output_type": "stream",
     "text": [
      "Running evaluation: 359it [00:00, 7604.52it/s]\n"
     ]
    },
    {
     "name": "stdout",
     "output_type": "stream",
     "text": [
      "2024-10-26 09:38:52.362330 38 / 100 755\n"
     ]
    },
    {
     "name": "stderr",
     "output_type": "stream",
     "text": [
      "Running evaluation: 359it [00:00, 7729.35it/s]\n",
      "/home/user/miniconda3/envs/lagllama/lib/python3.10/site-packages/gluonts/evaluation/_base.py:425: RuntimeWarning: divide by zero encountered in float_scalars\n",
      "  metrics[\"ND\"] = cast(float, metrics[\"abs_error\"]) / cast(\n"
     ]
    },
    {
     "name": "stdout",
     "output_type": "stream",
     "text": [
      "2024-10-26 09:39:29.438300 39 / 100 228\n"
     ]
    },
    {
     "name": "stderr",
     "output_type": "stream",
     "text": [
      "Running evaluation: 359it [00:00, 7992.84it/s]\n"
     ]
    },
    {
     "name": "stdout",
     "output_type": "stream",
     "text": [
      "2024-10-26 09:40:06.390718 Saving...\n",
      "2024-10-26 09:40:08.775744 40 / 100 427\n"
     ]
    },
    {
     "name": "stderr",
     "output_type": "stream",
     "text": [
      "Running evaluation: 359it [00:00, 7763.27it/s]\n"
     ]
    },
    {
     "name": "stdout",
     "output_type": "stream",
     "text": [
      "2024-10-26 09:40:45.726272 41 / 100 454\n"
     ]
    },
    {
     "name": "stderr",
     "output_type": "stream",
     "text": [
      "Running evaluation: 359it [00:00, 8125.43it/s]\n"
     ]
    },
    {
     "name": "stdout",
     "output_type": "stream",
     "text": [
      "2024-10-26 09:41:22.837373 42 / 100 690\n"
     ]
    },
    {
     "name": "stderr",
     "output_type": "stream",
     "text": [
      "Running evaluation: 359it [00:00, 7808.39it/s]\n",
      "/home/user/miniconda3/envs/lagllama/lib/python3.10/site-packages/gluonts/evaluation/_base.py:425: RuntimeWarning: divide by zero encountered in float_scalars\n",
      "  metrics[\"ND\"] = cast(float, metrics[\"abs_error\"]) / cast(\n"
     ]
    },
    {
     "name": "stdout",
     "output_type": "stream",
     "text": [
      "2024-10-26 09:41:59.681426 43 / 100 703\n"
     ]
    },
    {
     "name": "stderr",
     "output_type": "stream",
     "text": [
      "Running evaluation: 359it [00:00, 7417.11it/s]\n",
      "/home/user/miniconda3/envs/lagllama/lib/python3.10/site-packages/gluonts/evaluation/_base.py:425: RuntimeWarning: divide by zero encountered in float_scalars\n",
      "  metrics[\"ND\"] = cast(float, metrics[\"abs_error\"]) / cast(\n",
      "/home/user/miniconda3/envs/lagllama/lib/python3.10/site-packages/gluonts/evaluation/_base.py:425: RuntimeWarning: divide by zero encountered in float_scalars\n",
      "  metrics[\"ND\"] = cast(float, metrics[\"abs_error\"]) / cast(\n",
      "/home/user/miniconda3/envs/lagllama/lib/python3.10/site-packages/gluonts/evaluation/_base.py:425: RuntimeWarning: divide by zero encountered in float_scalars\n",
      "  metrics[\"ND\"] = cast(float, metrics[\"abs_error\"]) / cast(\n"
     ]
    },
    {
     "name": "stdout",
     "output_type": "stream",
     "text": [
      "2024-10-26 09:42:37.618752 44 / 100 259\n"
     ]
    },
    {
     "name": "stderr",
     "output_type": "stream",
     "text": [
      "Running evaluation: 359it [00:00, 7571.21it/s]\n",
      "/home/user/miniconda3/envs/lagllama/lib/python3.10/site-packages/gluonts/evaluation/_base.py:425: RuntimeWarning: divide by zero encountered in float_scalars\n",
      "  metrics[\"ND\"] = cast(float, metrics[\"abs_error\"]) / cast(\n",
      "/home/user/miniconda3/envs/lagllama/lib/python3.10/site-packages/gluonts/evaluation/_base.py:425: RuntimeWarning: divide by zero encountered in float_scalars\n",
      "  metrics[\"ND\"] = cast(float, metrics[\"abs_error\"]) / cast(\n",
      "/home/user/miniconda3/envs/lagllama/lib/python3.10/site-packages/gluonts/evaluation/_base.py:425: RuntimeWarning: divide by zero encountered in float_scalars\n",
      "  metrics[\"ND\"] = cast(float, metrics[\"abs_error\"]) / cast(\n"
     ]
    },
    {
     "name": "stdout",
     "output_type": "stream",
     "text": [
      "2024-10-26 09:43:15.278938 45 / 100 648\n"
     ]
    },
    {
     "name": "stderr",
     "output_type": "stream",
     "text": [
      "Running evaluation: 359it [00:00, 7935.34it/s]\n"
     ]
    },
    {
     "name": "stdout",
     "output_type": "stream",
     "text": [
      "2024-10-26 09:43:52.955334 46 / 100 341\n"
     ]
    },
    {
     "name": "stderr",
     "output_type": "stream",
     "text": [
      "Running evaluation: 359it [00:00, 7415.47it/s]\n"
     ]
    },
    {
     "name": "stdout",
     "output_type": "stream",
     "text": [
      "2024-10-26 09:44:31.362557 47 / 100 44\n"
     ]
    },
    {
     "name": "stderr",
     "output_type": "stream",
     "text": [
      "Running evaluation: 359it [00:00, 8119.47it/s]\n",
      "/home/user/miniconda3/envs/lagllama/lib/python3.10/site-packages/gluonts/evaluation/_base.py:425: RuntimeWarning: divide by zero encountered in float_scalars\n",
      "  metrics[\"ND\"] = cast(float, metrics[\"abs_error\"]) / cast(\n"
     ]
    },
    {
     "name": "stdout",
     "output_type": "stream",
     "text": [
      "2024-10-26 09:45:11.467221 48 / 100 275\n"
     ]
    },
    {
     "name": "stderr",
     "output_type": "stream",
     "text": [
      "Running evaluation: 359it [00:00, 7720.00it/s]\n"
     ]
    },
    {
     "name": "stdout",
     "output_type": "stream",
     "text": [
      "2024-10-26 09:45:50.672100 49 / 100 718\n"
     ]
    },
    {
     "name": "stderr",
     "output_type": "stream",
     "text": [
      "Running evaluation: 359it [00:00, 7799.82it/s]\n"
     ]
    },
    {
     "name": "stdout",
     "output_type": "stream",
     "text": [
      "2024-10-26 09:46:29.032237 Saving...\n",
      "2024-10-26 09:46:32.176921 50 / 100 25\n"
     ]
    },
    {
     "name": "stderr",
     "output_type": "stream",
     "text": [
      "Running evaluation: 359it [00:00, 7212.85it/s]\n"
     ]
    },
    {
     "name": "stdout",
     "output_type": "stream",
     "text": [
      "2024-10-26 09:47:12.547765 51 / 100 65\n"
     ]
    },
    {
     "name": "stderr",
     "output_type": "stream",
     "text": [
      "Running evaluation: 359it [00:00, 8347.22it/s]\n"
     ]
    },
    {
     "name": "stdout",
     "output_type": "stream",
     "text": [
      "2024-10-26 09:47:53.201052 52 / 100 455\n"
     ]
    },
    {
     "name": "stderr",
     "output_type": "stream",
     "text": [
      "Running evaluation: 359it [00:00, 7605.71it/s]\n"
     ]
    },
    {
     "name": "stdout",
     "output_type": "stream",
     "text": [
      "2024-10-26 09:48:33.017275 53 / 100 101\n"
     ]
    },
    {
     "name": "stderr",
     "output_type": "stream",
     "text": [
      "Running evaluation: 359it [00:00, 7935.26it/s]\n"
     ]
    },
    {
     "name": "stdout",
     "output_type": "stream",
     "text": [
      "2024-10-26 09:49:11.832177 54 / 100 673\n"
     ]
    },
    {
     "name": "stderr",
     "output_type": "stream",
     "text": [
      "Running evaluation: 359it [00:00, 8290.78it/s]\n"
     ]
    },
    {
     "name": "stdout",
     "output_type": "stream",
     "text": [
      "2024-10-26 09:49:50.827919 55 / 100 31\n"
     ]
    },
    {
     "name": "stderr",
     "output_type": "stream",
     "text": [
      "Running evaluation: 359it [00:00, 7838.31it/s]\n"
     ]
    },
    {
     "name": "stdout",
     "output_type": "stream",
     "text": [
      "2024-10-26 09:50:29.522515 56 / 100 10\n"
     ]
    },
    {
     "name": "stderr",
     "output_type": "stream",
     "text": [
      "Running evaluation: 359it [00:00, 8155.88it/s]\n"
     ]
    },
    {
     "name": "stdout",
     "output_type": "stream",
     "text": [
      "2024-10-26 09:51:08.042967 57 / 100 761\n"
     ]
    },
    {
     "name": "stderr",
     "output_type": "stream",
     "text": [
      "Running evaluation: 359it [00:00, 7951.77it/s]\n"
     ]
    },
    {
     "name": "stdout",
     "output_type": "stream",
     "text": [
      "2024-10-26 09:51:45.988480 58 / 100 478\n"
     ]
    },
    {
     "name": "stderr",
     "output_type": "stream",
     "text": [
      "Running evaluation: 359it [00:00, 7584.94it/s]\n"
     ]
    },
    {
     "name": "stdout",
     "output_type": "stream",
     "text": [
      "2024-10-26 09:52:24.567425 59 / 100 100\n"
     ]
    },
    {
     "name": "stderr",
     "output_type": "stream",
     "text": [
      "Running evaluation: 359it [00:00, 8137.33it/s]\n"
     ]
    },
    {
     "name": "stdout",
     "output_type": "stream",
     "text": [
      "2024-10-26 09:53:03.710013 Saving...\n",
      "2024-10-26 09:53:07.407310 60 / 100 22\n"
     ]
    },
    {
     "name": "stderr",
     "output_type": "stream",
     "text": [
      "Running evaluation: 359it [00:00, 7879.08it/s]\n",
      "/home/user/miniconda3/envs/lagllama/lib/python3.10/site-packages/gluonts/evaluation/metrics.py:105: RuntimeWarning: divide by zero encountered in double_scalars\n",
      "  return np.mean(np.abs(target - forecast)) / seasonal_error\n",
      "/home/user/miniconda3/envs/lagllama/lib/python3.10/site-packages/gluonts/evaluation/_base.py:425: RuntimeWarning: divide by zero encountered in float_scalars\n",
      "  metrics[\"ND\"] = cast(float, metrics[\"abs_error\"]) / cast(\n",
      "/home/user/miniconda3/envs/lagllama/lib/python3.10/site-packages/gluonts/evaluation/metrics.py:154: RuntimeWarning: divide by zero encountered in double_scalars\n",
      "  return numerator / seasonal_error\n",
      "/home/user/miniconda3/envs/lagllama/lib/python3.10/site-packages/gluonts/evaluation/metrics.py:105: RuntimeWarning: divide by zero encountered in double_scalars\n",
      "  return np.mean(np.abs(target - forecast)) / seasonal_error\n",
      "/home/user/miniconda3/envs/lagllama/lib/python3.10/site-packages/gluonts/evaluation/_base.py:425: RuntimeWarning: divide by zero encountered in float_scalars\n",
      "  metrics[\"ND\"] = cast(float, metrics[\"abs_error\"]) / cast(\n",
      "/home/user/miniconda3/envs/lagllama/lib/python3.10/site-packages/gluonts/evaluation/metrics.py:154: RuntimeWarning: divide by zero encountered in double_scalars\n",
      "  return numerator / seasonal_error\n",
      "/home/user/miniconda3/envs/lagllama/lib/python3.10/site-packages/gluonts/evaluation/metrics.py:105: RuntimeWarning: divide by zero encountered in double_scalars\n",
      "  return np.mean(np.abs(target - forecast)) / seasonal_error\n",
      "/home/user/miniconda3/envs/lagllama/lib/python3.10/site-packages/gluonts/evaluation/_base.py:425: RuntimeWarning: divide by zero encountered in float_scalars\n",
      "  metrics[\"ND\"] = cast(float, metrics[\"abs_error\"]) / cast(\n",
      "/home/user/miniconda3/envs/lagllama/lib/python3.10/site-packages/gluonts/evaluation/metrics.py:154: RuntimeWarning: divide by zero encountered in double_scalars\n",
      "  return numerator / seasonal_error\n",
      "/home/user/miniconda3/envs/lagllama/lib/python3.10/site-packages/gluonts/evaluation/metrics.py:105: RuntimeWarning: divide by zero encountered in double_scalars\n",
      "  return np.mean(np.abs(target - forecast)) / seasonal_error\n",
      "/home/user/miniconda3/envs/lagllama/lib/python3.10/site-packages/gluonts/evaluation/metrics.py:154: RuntimeWarning: divide by zero encountered in double_scalars\n",
      "  return numerator / seasonal_error\n",
      "/home/user/miniconda3/envs/lagllama/lib/python3.10/site-packages/gluonts/evaluation/metrics.py:105: RuntimeWarning: divide by zero encountered in double_scalars\n",
      "  return np.mean(np.abs(target - forecast)) / seasonal_error\n",
      "/home/user/miniconda3/envs/lagllama/lib/python3.10/site-packages/gluonts/evaluation/_base.py:425: RuntimeWarning: divide by zero encountered in float_scalars\n",
      "  metrics[\"ND\"] = cast(float, metrics[\"abs_error\"]) / cast(\n",
      "/home/user/miniconda3/envs/lagllama/lib/python3.10/site-packages/gluonts/evaluation/metrics.py:154: RuntimeWarning: divide by zero encountered in double_scalars\n",
      "  return numerator / seasonal_error\n"
     ]
    },
    {
     "name": "stdout",
     "output_type": "stream",
     "text": [
      "2024-10-26 09:53:46.229754 61 / 100 41\n"
     ]
    },
    {
     "name": "stderr",
     "output_type": "stream",
     "text": [
      "Running evaluation: 359it [00:00, 7997.17it/s]\n",
      "/home/user/miniconda3/envs/lagllama/lib/python3.10/site-packages/gluonts/evaluation/_base.py:425: RuntimeWarning: divide by zero encountered in float_scalars\n",
      "  metrics[\"ND\"] = cast(float, metrics[\"abs_error\"]) / cast(\n",
      "/home/user/miniconda3/envs/lagllama/lib/python3.10/site-packages/gluonts/evaluation/_base.py:425: RuntimeWarning: divide by zero encountered in float_scalars\n",
      "  metrics[\"ND\"] = cast(float, metrics[\"abs_error\"]) / cast(\n",
      "/home/user/miniconda3/envs/lagllama/lib/python3.10/site-packages/gluonts/evaluation/_base.py:425: RuntimeWarning: divide by zero encountered in float_scalars\n",
      "  metrics[\"ND\"] = cast(float, metrics[\"abs_error\"]) / cast(\n"
     ]
    },
    {
     "name": "stdout",
     "output_type": "stream",
     "text": [
      "2024-10-26 09:54:23.267789 62 / 100 496\n"
     ]
    },
    {
     "name": "stderr",
     "output_type": "stream",
     "text": [
      "Running evaluation: 359it [00:00, 7870.39it/s]\n"
     ]
    },
    {
     "name": "stdout",
     "output_type": "stream",
     "text": [
      "2024-10-26 09:55:00.255517 63 / 100 217\n"
     ]
    },
    {
     "name": "stderr",
     "output_type": "stream",
     "text": [
      "Running evaluation: 359it [00:00, 8157.78it/s]\n"
     ]
    },
    {
     "name": "stdout",
     "output_type": "stream",
     "text": [
      "2024-10-26 09:55:37.364656 64 / 100 144\n"
     ]
    },
    {
     "name": "stderr",
     "output_type": "stream",
     "text": [
      "Running evaluation: 359it [00:00, 7552.45it/s]\n"
     ]
    },
    {
     "name": "stdout",
     "output_type": "stream",
     "text": [
      "2024-10-26 09:56:14.672953 65 / 100 214\n"
     ]
    },
    {
     "name": "stderr",
     "output_type": "stream",
     "text": [
      "Running evaluation: 359it [00:00, 8513.49it/s]\n",
      "/home/user/miniconda3/envs/lagllama/lib/python3.10/site-packages/gluonts/evaluation/_base.py:425: RuntimeWarning: divide by zero encountered in float_scalars\n",
      "  metrics[\"ND\"] = cast(float, metrics[\"abs_error\"]) / cast(\n",
      "/home/user/miniconda3/envs/lagllama/lib/python3.10/site-packages/gluonts/evaluation/_base.py:425: RuntimeWarning: divide by zero encountered in float_scalars\n",
      "  metrics[\"ND\"] = cast(float, metrics[\"abs_error\"]) / cast(\n",
      "/home/user/miniconda3/envs/lagllama/lib/python3.10/site-packages/gluonts/evaluation/_base.py:425: RuntimeWarning: divide by zero encountered in float_scalars\n",
      "  metrics[\"ND\"] = cast(float, metrics[\"abs_error\"]) / cast(\n",
      "/home/user/miniconda3/envs/lagllama/lib/python3.10/site-packages/gluonts/evaluation/_base.py:425: RuntimeWarning: divide by zero encountered in float_scalars\n",
      "  metrics[\"ND\"] = cast(float, metrics[\"abs_error\"]) / cast(\n"
     ]
    },
    {
     "name": "stdout",
     "output_type": "stream",
     "text": [
      "2024-10-26 09:56:52.263392 66 / 100 512\n"
     ]
    },
    {
     "name": "stderr",
     "output_type": "stream",
     "text": [
      "Running evaluation: 359it [00:00, 7472.73it/s]\n"
     ]
    },
    {
     "name": "stdout",
     "output_type": "stream",
     "text": [
      "2024-10-26 09:57:32.137761 67 / 100 654\n"
     ]
    },
    {
     "name": "stderr",
     "output_type": "stream",
     "text": [
      "Running evaluation: 359it [00:00, 7735.79it/s]\n"
     ]
    },
    {
     "name": "stdout",
     "output_type": "stream",
     "text": [
      "2024-10-26 09:58:12.499523 68 / 100 363\n"
     ]
    },
    {
     "name": "stderr",
     "output_type": "stream",
     "text": [
      "Running evaluation: 359it [00:00, 7720.55it/s]\n"
     ]
    },
    {
     "name": "stdout",
     "output_type": "stream",
     "text": [
      "2024-10-26 09:58:53.385654 69 / 100 109\n"
     ]
    },
    {
     "name": "stderr",
     "output_type": "stream",
     "text": [
      "Running evaluation: 359it [00:00, 7795.90it/s]\n"
     ]
    },
    {
     "name": "stdout",
     "output_type": "stream",
     "text": [
      "2024-10-26 09:59:33.799856 Saving...\n",
      "2024-10-26 09:59:38.318969 70 / 100 116\n"
     ]
    },
    {
     "name": "stderr",
     "output_type": "stream",
     "text": [
      "Running evaluation: 359it [00:00, 8692.08it/s]\n"
     ]
    },
    {
     "name": "stdout",
     "output_type": "stream",
     "text": [
      "2024-10-26 10:00:17.619749 71 / 100 111\n"
     ]
    },
    {
     "name": "stderr",
     "output_type": "stream",
     "text": [
      "Running evaluation: 359it [00:00, 6973.48it/s]\n"
     ]
    },
    {
     "name": "stdout",
     "output_type": "stream",
     "text": [
      "2024-10-26 10:00:54.746963 72 / 100 55\n"
     ]
    },
    {
     "name": "stderr",
     "output_type": "stream",
     "text": [
      "Running evaluation: 359it [00:00, 7363.72it/s]\n"
     ]
    },
    {
     "name": "stdout",
     "output_type": "stream",
     "text": [
      "2024-10-26 10:01:32.077814 73 / 100 832\n"
     ]
    },
    {
     "name": "stderr",
     "output_type": "stream",
     "text": [
      "Running evaluation: 359it [00:00, 7911.20it/s]\n"
     ]
    },
    {
     "name": "stdout",
     "output_type": "stream",
     "text": [
      "2024-10-26 10:02:09.969137 74 / 100 401\n"
     ]
    },
    {
     "name": "stderr",
     "output_type": "stream",
     "text": [
      "Running evaluation: 359it [00:00, 8134.60it/s]\n"
     ]
    },
    {
     "name": "stdout",
     "output_type": "stream",
     "text": [
      "2024-10-26 10:02:47.149666 75 / 100 99\n"
     ]
    },
    {
     "name": "stderr",
     "output_type": "stream",
     "text": [
      "Running evaluation: 359it [00:00, 8079.91it/s]\n"
     ]
    },
    {
     "name": "stdout",
     "output_type": "stream",
     "text": [
      "2024-10-26 10:03:24.876830 76 / 100 270\n"
     ]
    },
    {
     "name": "stderr",
     "output_type": "stream",
     "text": [
      "Running evaluation: 359it [00:00, 7428.78it/s]\n"
     ]
    },
    {
     "name": "stdout",
     "output_type": "stream",
     "text": [
      "2024-10-26 10:04:02.104554 77 / 100 29\n"
     ]
    },
    {
     "name": "stderr",
     "output_type": "stream",
     "text": [
      "Running evaluation: 359it [00:00, 7456.23it/s]\n"
     ]
    },
    {
     "name": "stdout",
     "output_type": "stream",
     "text": [
      "2024-10-26 10:04:39.066677 78 / 100 400\n"
     ]
    },
    {
     "name": "stderr",
     "output_type": "stream",
     "text": [
      "Running evaluation: 359it [00:00, 7478.00it/s]\n"
     ]
    },
    {
     "name": "stdout",
     "output_type": "stream",
     "text": [
      "2024-10-26 10:05:16.190711 79 / 100 786\n"
     ]
    },
    {
     "name": "stderr",
     "output_type": "stream",
     "text": [
      "Running evaluation: 359it [00:00, 7764.35it/s]\n"
     ]
    },
    {
     "name": "stdout",
     "output_type": "stream",
     "text": [
      "2024-10-26 10:05:53.390822 Saving...\n",
      "2024-10-26 10:05:58.454650 80 / 100 186\n"
     ]
    },
    {
     "name": "stderr",
     "output_type": "stream",
     "text": [
      "Running evaluation: 359it [00:00, 8018.63it/s]\n"
     ]
    },
    {
     "name": "stdout",
     "output_type": "stream",
     "text": [
      "2024-10-26 10:06:38.974292 81 / 100 285\n"
     ]
    },
    {
     "name": "stderr",
     "output_type": "stream",
     "text": [
      "Running evaluation: 359it [00:00, 7616.44it/s]\n"
     ]
    },
    {
     "name": "stdout",
     "output_type": "stream",
     "text": [
      "2024-10-26 10:07:17.183489 82 / 100 12\n"
     ]
    },
    {
     "name": "stderr",
     "output_type": "stream",
     "text": [
      "Running evaluation: 359it [00:00, 7611.32it/s]\n"
     ]
    },
    {
     "name": "stdout",
     "output_type": "stream",
     "text": [
      "2024-10-26 10:07:55.350914 83 / 100 88\n"
     ]
    },
    {
     "name": "stderr",
     "output_type": "stream",
     "text": [
      "Running evaluation: 359it [00:00, 7375.33it/s]\n"
     ]
    },
    {
     "name": "stdout",
     "output_type": "stream",
     "text": [
      "2024-10-26 10:08:33.742301 84 / 100 744\n"
     ]
    },
    {
     "name": "stderr",
     "output_type": "stream",
     "text": [
      "Running evaluation: 359it [00:00, 8099.20it/s]\n"
     ]
    },
    {
     "name": "stdout",
     "output_type": "stream",
     "text": [
      "2024-10-26 10:09:14.558604 85 / 100 745\n"
     ]
    },
    {
     "name": "stderr",
     "output_type": "stream",
     "text": [
      "Running evaluation: 359it [00:00, 8473.10it/s]\n"
     ]
    },
    {
     "name": "stdout",
     "output_type": "stream",
     "text": [
      "2024-10-26 10:09:52.701634 86 / 100 13\n"
     ]
    },
    {
     "name": "stderr",
     "output_type": "stream",
     "text": [
      "Running evaluation: 359it [00:00, 8033.48it/s]\n"
     ]
    },
    {
     "name": "stdout",
     "output_type": "stream",
     "text": [
      "2024-10-26 10:10:30.865895 87 / 100 56\n"
     ]
    },
    {
     "name": "stderr",
     "output_type": "stream",
     "text": [
      "Running evaluation: 359it [00:00, 7081.34it/s]\n"
     ]
    },
    {
     "name": "stdout",
     "output_type": "stream",
     "text": [
      "2024-10-26 10:11:08.686824 88 / 100 103\n"
     ]
    },
    {
     "name": "stderr",
     "output_type": "stream",
     "text": [
      "Running evaluation: 359it [00:00, 8043.74it/s]\n"
     ]
    },
    {
     "name": "stdout",
     "output_type": "stream",
     "text": [
      "2024-10-26 10:11:47.298753 89 / 100 737\n"
     ]
    },
    {
     "name": "stderr",
     "output_type": "stream",
     "text": [
      "Running evaluation: 359it [00:00, 7706.76it/s]\n"
     ]
    },
    {
     "name": "stdout",
     "output_type": "stream",
     "text": [
      "2024-10-26 10:12:26.778555 Saving...\n",
      "2024-10-26 10:12:32.793206 90 / 100 484\n"
     ]
    },
    {
     "name": "stderr",
     "output_type": "stream",
     "text": [
      "Running evaluation: 359it [00:00, 8426.40it/s]\n"
     ]
    },
    {
     "name": "stdout",
     "output_type": "stream",
     "text": [
      "2024-10-26 10:13:11.397742 91 / 100 674\n"
     ]
    },
    {
     "name": "stderr",
     "output_type": "stream",
     "text": [
      "Running evaluation: 359it [00:00, 8260.49it/s]\n"
     ]
    },
    {
     "name": "stdout",
     "output_type": "stream",
     "text": [
      "2024-10-26 10:13:49.139100 92 / 100 8\n"
     ]
    },
    {
     "name": "stderr",
     "output_type": "stream",
     "text": [
      "Running evaluation: 359it [00:00, 8158.75it/s]\n"
     ]
    },
    {
     "name": "stdout",
     "output_type": "stream",
     "text": [
      "2024-10-26 10:14:27.405258 93 / 100 92\n"
     ]
    },
    {
     "name": "stderr",
     "output_type": "stream",
     "text": [
      "Running evaluation: 359it [00:00, 7692.55it/s]\n"
     ]
    },
    {
     "name": "stdout",
     "output_type": "stream",
     "text": [
      "2024-10-26 10:15:05.989108 94 / 100 339\n"
     ]
    },
    {
     "name": "stderr",
     "output_type": "stream",
     "text": [
      "Running evaluation: 359it [00:00, 7417.55it/s]\n"
     ]
    },
    {
     "name": "stdout",
     "output_type": "stream",
     "text": [
      "2024-10-26 10:15:44.219171 95 / 100 887\n"
     ]
    },
    {
     "name": "stderr",
     "output_type": "stream",
     "text": [
      "Running evaluation: 359it [00:00, 7742.99it/s]\n"
     ]
    },
    {
     "name": "stdout",
     "output_type": "stream",
     "text": [
      "2024-10-26 10:16:24.085028 96 / 100 42\n"
     ]
    },
    {
     "name": "stderr",
     "output_type": "stream",
     "text": [
      "Running evaluation: 359it [00:00, 8064.41it/s]\n"
     ]
    },
    {
     "name": "stdout",
     "output_type": "stream",
     "text": [
      "2024-10-26 10:17:03.337845 97 / 100 475\n"
     ]
    },
    {
     "name": "stderr",
     "output_type": "stream",
     "text": [
      "Running evaluation: 359it [00:00, 7630.76it/s]\n"
     ]
    },
    {
     "name": "stdout",
     "output_type": "stream",
     "text": [
      "2024-10-26 10:17:42.300404 98 / 100 765\n"
     ]
    },
    {
     "name": "stderr",
     "output_type": "stream",
     "text": [
      "Running evaluation: 359it [00:00, 8096.68it/s]\n"
     ]
    },
    {
     "name": "stdout",
     "output_type": "stream",
     "text": [
      "2024-10-26 10:18:21.355677 99 / 100 716\n"
     ]
    },
    {
     "name": "stderr",
     "output_type": "stream",
     "text": [
      "Running evaluation: 359it [00:00, 7760.22it/s]\n"
     ]
    },
    {
     "name": "stdout",
     "output_type": "stream",
     "text": [
      "2024-10-26 10:19:01.897572 Saving...\n",
      "\n"
     ]
    }
   ],
   "source": [
    "files_list = glob.glob('/home/user/New_Buildings_Datasets/Enernoc/csv-only/processed/*.csv')\n",
    "\n",
    "dataset = 'Enernoc'\n",
    "os.makedirs(f'../forecasts/{dataset}/', exist_ok = True)\n",
    "os.makedirs(f'../results/{dataset}/', exist_ok = True)\n",
    "\n",
    "for filename in files_list:\n",
    "    print(datetime.now(), filename)\n",
    "    results = process_file(filename)\n",
    "    # if results is not None:\n",
    "    #     results.to_csv(f'../forecasts/{dataset}/{os.path.basename(filename)}', index=False)\n",
    "    print('')"
   ]
  },
  {
   "cell_type": "markdown",
   "id": "b13c5805-2bb0-4e70-8941-3d850dea6438",
   "metadata": {},
   "source": [
    "## Metrics"
   ]
  },
  {
   "cell_type": "code",
   "execution_count": 19,
   "id": "1924d448-cc48-4b3c-a21c-3320f700de63",
   "metadata": {},
   "outputs": [],
   "source": [
    "#!pip install permetrics"
   ]
  },
  {
   "cell_type": "code",
   "execution_count": 20,
   "id": "c725f52b-5cf7-4900-87bf-65ed5b6ae57c",
   "metadata": {
    "scrolled": true
   },
   "outputs": [
    {
     "name": "stdout",
     "output_type": "stream",
     "text": [
      "(6,)\n",
      "(8,)\n",
      "(9,)\n",
      "(10,)\n",
      "(12,)\n",
      "(13,)\n",
      "(14,)\n",
      "(21,)\n",
      "(22,)\n",
      "(25,)\n",
      "(29,)\n",
      "(30,)\n",
      "(31,)\n",
      "(32,)\n",
      "(36,)\n",
      "(41,)\n",
      "(42,)\n",
      "(44,)\n",
      "(45,)\n",
      "(49,)\n",
      "(51,)\n",
      "(55,)\n",
      "(56,)\n",
      "(65,)\n",
      "(78,)\n",
      "(88,)\n",
      "(92,)\n",
      "(99,)\n",
      "(100,)\n",
      "(101,)\n",
      "(103,)\n",
      "(109,)\n",
      "(111,)\n",
      "(116,)\n",
      "(136,)\n",
      "(137,)\n",
      "(144,)\n",
      "(153,)\n",
      "(186,)\n",
      "(197,)\n",
      "(213,)\n",
      "(214,)\n",
      "(217,)\n",
      "(218,)\n",
      "(224,)\n",
      "(228,)\n",
      "(236,)\n",
      "(259,)\n",
      "(270,)\n",
      "(275,)\n",
      "(281,)\n",
      "(285,)\n",
      "(304,)\n",
      "(339,)\n",
      "(341,)\n",
      "(363,)\n",
      "(366,)\n",
      "(384,)\n",
      "(386,)\n",
      "(391,)\n",
      "(399,)\n",
      "(400,)\n",
      "(401,)\n",
      "(404,)\n",
      "(427,)\n",
      "(454,)\n",
      "(455,)\n",
      "(472,)\n",
      "(474,)\n",
      "(475,)\n",
      "(478,)\n",
      "(484,)\n",
      "(492,)\n",
      "(496,)\n",
      "(512,)\n",
      "(648,)\n",
      "(654,)\n",
      "(673,)\n",
      "(674,)\n",
      "(690,)\n",
      "(697,)\n",
      "(703,)\n",
      "(716,)\n",
      "(718,)\n",
      "(731,)\n",
      "(737,)\n",
      "(742,)\n",
      "(744,)\n",
      "(745,)\n",
      "(755,)\n",
      "(761,)\n",
      "(765,)\n",
      "(766,)\n",
      "(767,)\n",
      "(771,)\n",
      "(786,)\n",
      "(805,)\n",
      "(808,)\n",
      "(832,)\n",
      "(887,)\n"
     ]
    }
   ],
   "source": [
    "from sklearn.metrics import mean_absolute_percentage_error\n",
    "from sklearn.metrics import mean_absolute_error\n",
    "from sklearn.metrics import mean_squared_error\n",
    "from sklearn.metrics import mean_squared_log_error\n",
    "from sklearn.metrics import root_mean_squared_error\n",
    "from sklearn.metrics import root_mean_squared_log_error\n",
    "from permetrics.regression import RegressionMetric\n",
    "\n",
    "dataset = 'Enernoc'\n",
    "files_list = glob.glob(f'../forecasts/{dataset}/*.csv')\n",
    "\n",
    "metrics_all_files = []\n",
    "\n",
    "for filename in files_list:\n",
    "    res = pd.read_csv(filename)\n",
    "    metrics_all = []\n",
    "    for (g, data) in res.groupby(['building']):\n",
    "        data = data.dropna()\n",
    "        data = data[data.y_pred >= 0]\n",
    "        #data = [data.y_pred >= 0]\n",
    "        print(g)  \n",
    "        if data.empty:\n",
    "            continue \n",
    "            \n",
    "        rmse= root_mean_squared_error(data.y_true, data.y_pred)\n",
    "        mae= mean_absolute_error(data.y_true, data.y_pred)\n",
    "        mape = mean_absolute_percentage_error(data.y_true, data.y_pred)\n",
    "        mse= mean_squared_error(data.y_true, data.y_pred)\n",
    "        msle= mean_squared_log_error(data.y_true, data.y_pred)\n",
    "        rmsle= root_mean_squared_log_error(data.y_true, data.y_pred)\n",
    "\n",
    "        evaluator = RegressionMetric(data.y_true.to_list(), data.y_pred.to_list())\n",
    "        nrmse = evaluator.normalized_root_mean_square_error()\n",
    "    \n",
    "        metrics = pd.DataFrame({'building_name': [g[0]], \n",
    "                           'mae': [mae],\n",
    "                            'mape': [mape],\n",
    "                           'mse': [mse], 'rmse': [rmse], 'msle': [msle], 'rmsle': [rmsle], 'nrmse' : [nrmse]})\n",
    "        metrics_all.append(metrics)\n",
    "    \n",
    "    metrics_all_df = pd.concat(metrics_all)\n",
    "    metrics_all_df.to_csv(f'../results/{dataset}/{os.path.basename(filename)}')\n",
    "\n",
    "    metrics_all_df['filename'] = os.path.basename(filename)\n",
    "    metrics_all_files.append(metrics_all_df)\n",
    "\n",
    "metrics_all_files_df = pd.concat(metrics_all_files)"
   ]
  },
  {
   "cell_type": "code",
   "execution_count": 21,
   "id": "3aff4aca-a502-46f9-bccf-ec8ab0453263",
   "metadata": {},
   "outputs": [
    {
     "data": {
      "text/html": [
       "<div>\n",
       "<style scoped>\n",
       "    .dataframe tbody tr th:only-of-type {\n",
       "        vertical-align: middle;\n",
       "    }\n",
       "\n",
       "    .dataframe tbody tr th {\n",
       "        vertical-align: top;\n",
       "    }\n",
       "\n",
       "    .dataframe thead th {\n",
       "        text-align: right;\n",
       "    }\n",
       "</style>\n",
       "<table border=\"1\" class=\"dataframe\">\n",
       "  <thead>\n",
       "    <tr style=\"text-align: right;\">\n",
       "      <th></th>\n",
       "      <th>building_name</th>\n",
       "      <th>mae</th>\n",
       "      <th>mape</th>\n",
       "      <th>mse</th>\n",
       "      <th>rmse</th>\n",
       "      <th>msle</th>\n",
       "      <th>rmsle</th>\n",
       "      <th>nrmse</th>\n",
       "      <th>filename</th>\n",
       "    </tr>\n",
       "  </thead>\n",
       "  <tbody>\n",
       "    <tr>\n",
       "      <th>0</th>\n",
       "      <td>6</td>\n",
       "      <td>77.071449</td>\n",
       "      <td>9.821077e+13</td>\n",
       "      <td>10183.713092</td>\n",
       "      <td>100.914385</td>\n",
       "      <td>0.125911</td>\n",
       "      <td>0.354840</td>\n",
       "      <td>0.804247</td>\n",
       "      <td>enernoc.csv</td>\n",
       "    </tr>\n",
       "    <tr>\n",
       "      <th>0</th>\n",
       "      <td>8</td>\n",
       "      <td>374.541271</td>\n",
       "      <td>4.610198e-01</td>\n",
       "      <td>309599.841100</td>\n",
       "      <td>556.416967</td>\n",
       "      <td>0.607808</td>\n",
       "      <td>0.779620</td>\n",
       "      <td>0.774691</td>\n",
       "      <td>enernoc.csv</td>\n",
       "    </tr>\n",
       "    <tr>\n",
       "      <th>0</th>\n",
       "      <td>9</td>\n",
       "      <td>88.059858</td>\n",
       "      <td>4.942137e+15</td>\n",
       "      <td>17615.122528</td>\n",
       "      <td>132.721975</td>\n",
       "      <td>0.328371</td>\n",
       "      <td>0.573036</td>\n",
       "      <td>1.156207</td>\n",
       "      <td>enernoc.csv</td>\n",
       "    </tr>\n",
       "    <tr>\n",
       "      <th>0</th>\n",
       "      <td>10</td>\n",
       "      <td>476.128321</td>\n",
       "      <td>1.500199e-01</td>\n",
       "      <td>431395.043480</td>\n",
       "      <td>656.806702</td>\n",
       "      <td>0.045551</td>\n",
       "      <td>0.213427</td>\n",
       "      <td>1.021069</td>\n",
       "      <td>enernoc.csv</td>\n",
       "    </tr>\n",
       "    <tr>\n",
       "      <th>0</th>\n",
       "      <td>12</td>\n",
       "      <td>107.583218</td>\n",
       "      <td>2.260965e-01</td>\n",
       "      <td>20520.742289</td>\n",
       "      <td>143.250628</td>\n",
       "      <td>0.169054</td>\n",
       "      <td>0.411162</td>\n",
       "      <td>1.018745</td>\n",
       "      <td>enernoc.csv</td>\n",
       "    </tr>\n",
       "    <tr>\n",
       "      <th>...</th>\n",
       "      <td>...</td>\n",
       "      <td>...</td>\n",
       "      <td>...</td>\n",
       "      <td>...</td>\n",
       "      <td>...</td>\n",
       "      <td>...</td>\n",
       "      <td>...</td>\n",
       "      <td>...</td>\n",
       "      <td>...</td>\n",
       "    </tr>\n",
       "    <tr>\n",
       "      <th>0</th>\n",
       "      <td>786</td>\n",
       "      <td>309.241782</td>\n",
       "      <td>4.337602e-01</td>\n",
       "      <td>312206.533010</td>\n",
       "      <td>558.754448</td>\n",
       "      <td>0.207229</td>\n",
       "      <td>0.455224</td>\n",
       "      <td>1.744368</td>\n",
       "      <td>enernoc.csv</td>\n",
       "    </tr>\n",
       "    <tr>\n",
       "      <th>0</th>\n",
       "      <td>805</td>\n",
       "      <td>40.535842</td>\n",
       "      <td>4.507198e-01</td>\n",
       "      <td>3351.147771</td>\n",
       "      <td>57.889099</td>\n",
       "      <td>0.781825</td>\n",
       "      <td>0.884208</td>\n",
       "      <td>1.056898</td>\n",
       "      <td>enernoc.csv</td>\n",
       "    </tr>\n",
       "    <tr>\n",
       "      <th>0</th>\n",
       "      <td>808</td>\n",
       "      <td>35.605432</td>\n",
       "      <td>5.054595e-01</td>\n",
       "      <td>3186.486935</td>\n",
       "      <td>56.448976</td>\n",
       "      <td>0.490049</td>\n",
       "      <td>0.700035</td>\n",
       "      <td>1.018001</td>\n",
       "      <td>enernoc.csv</td>\n",
       "    </tr>\n",
       "    <tr>\n",
       "      <th>0</th>\n",
       "      <td>832</td>\n",
       "      <td>335.700551</td>\n",
       "      <td>4.934140e-01</td>\n",
       "      <td>253328.744558</td>\n",
       "      <td>503.317737</td>\n",
       "      <td>0.718636</td>\n",
       "      <td>0.847724</td>\n",
       "      <td>0.799737</td>\n",
       "      <td>enernoc.csv</td>\n",
       "    </tr>\n",
       "    <tr>\n",
       "      <th>0</th>\n",
       "      <td>887</td>\n",
       "      <td>346.764371</td>\n",
       "      <td>7.655197e+14</td>\n",
       "      <td>192332.576884</td>\n",
       "      <td>438.557382</td>\n",
       "      <td>0.366761</td>\n",
       "      <td>0.605608</td>\n",
       "      <td>0.842174</td>\n",
       "      <td>enernoc.csv</td>\n",
       "    </tr>\n",
       "  </tbody>\n",
       "</table>\n",
       "<p>100 rows × 9 columns</p>\n",
       "</div>"
      ],
      "text/plain": [
       "    building_name         mae          mape            mse        rmse  \\\n",
       "0               6   77.071449  9.821077e+13   10183.713092  100.914385   \n",
       "0               8  374.541271  4.610198e-01  309599.841100  556.416967   \n",
       "0               9   88.059858  4.942137e+15   17615.122528  132.721975   \n",
       "0              10  476.128321  1.500199e-01  431395.043480  656.806702   \n",
       "0              12  107.583218  2.260965e-01   20520.742289  143.250628   \n",
       "..            ...         ...           ...            ...         ...   \n",
       "0             786  309.241782  4.337602e-01  312206.533010  558.754448   \n",
       "0             805   40.535842  4.507198e-01    3351.147771   57.889099   \n",
       "0             808   35.605432  5.054595e-01    3186.486935   56.448976   \n",
       "0             832  335.700551  4.934140e-01  253328.744558  503.317737   \n",
       "0             887  346.764371  7.655197e+14  192332.576884  438.557382   \n",
       "\n",
       "        msle     rmsle     nrmse     filename  \n",
       "0   0.125911  0.354840  0.804247  enernoc.csv  \n",
       "0   0.607808  0.779620  0.774691  enernoc.csv  \n",
       "0   0.328371  0.573036  1.156207  enernoc.csv  \n",
       "0   0.045551  0.213427  1.021069  enernoc.csv  \n",
       "0   0.169054  0.411162  1.018745  enernoc.csv  \n",
       "..       ...       ...       ...          ...  \n",
       "0   0.207229  0.455224  1.744368  enernoc.csv  \n",
       "0   0.781825  0.884208  1.056898  enernoc.csv  \n",
       "0   0.490049  0.700035  1.018001  enernoc.csv  \n",
       "0   0.718636  0.847724  0.799737  enernoc.csv  \n",
       "0   0.366761  0.605608  0.842174  enernoc.csv  \n",
       "\n",
       "[100 rows x 9 columns]"
      ]
     },
     "execution_count": 21,
     "metadata": {},
     "output_type": "execute_result"
    }
   ],
   "source": [
    "metrics_all_files_df.to_csv(f'../results/{dataset}/results_combined.csv')\n",
    "metrics_all_files_df"
   ]
  }
 ],
 "metadata": {
  "kernelspec": {
   "display_name": "Python 3 (ipykernel)",
   "language": "python",
   "name": "python3"
  },
  "language_info": {
   "codemirror_mode": {
    "name": "ipython",
    "version": 3
   },
   "file_extension": ".py",
   "mimetype": "text/x-python",
   "name": "python",
   "nbconvert_exporter": "python",
   "pygments_lexer": "ipython3",
   "version": "3.10.12"
  }
 },
 "nbformat": 4,
 "nbformat_minor": 5
}
