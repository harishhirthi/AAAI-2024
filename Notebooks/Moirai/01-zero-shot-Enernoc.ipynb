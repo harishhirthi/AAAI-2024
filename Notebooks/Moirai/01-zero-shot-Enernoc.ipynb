{
 "cells": [
  {
   "cell_type": "code",
   "execution_count": 1,
   "id": "5a4adde6-0d3f-4ce4-9aa6-2101b8ba2687",
   "metadata": {},
   "outputs": [
    {
     "name": "stdout",
     "output_type": "stream",
     "text": [
      "Python 3.10.12\n"
     ]
    }
   ],
   "source": [
    "!python --version"
   ]
  },
  {
   "cell_type": "code",
   "execution_count": 2,
   "id": "5c3b3a2f-88e9-4179-9ccb-1ffe6db71610",
   "metadata": {},
   "outputs": [
    {
     "name": "stdout",
     "output_type": "stream",
     "text": [
      "/home/user/energygpt/moirai/uni2ts\n"
     ]
    },
    {
     "name": "stderr",
     "output_type": "stream",
     "text": [
      "/home/user/miniconda3/envs/moirai/lib/python3.10/site-packages/IPython/core/magics/osm.py:417: UserWarning: This is now an optional IPython functionality, setting dhist requires you to install the `pickleshare` library.\n",
      "  self.shell.db['dhist'] = compress_dhist(dhist)[-100:]\n"
     ]
    }
   ],
   "source": [
    "cd uni2ts"
   ]
  },
  {
   "cell_type": "code",
   "execution_count": 3,
   "id": "c8441f45-7787-4153-8909-aaff665b7f3d",
   "metadata": {},
   "outputs": [
    {
     "name": "stderr",
     "output_type": "stream",
     "text": [
      "/tmp/ipykernel_3722396/4260485682.py:8: TqdmExperimentalWarning: Using `tqdm.autonotebook.tqdm` in notebook mode. Use `tqdm.tqdm` instead to force console mode (e.g. in jupyter console)\n",
      "  from tqdm.autonotebook import tqdm\n"
     ]
    }
   ],
   "source": [
    "import os\n",
    "import torch\n",
    "import matplotlib.pyplot as plt\n",
    "import glob\n",
    "import pandas as pd\n",
    "from gluonts.dataset.pandas import PandasDataset\n",
    "from gluonts.dataset.split import split\n",
    "from tqdm.autonotebook import tqdm\n",
    "import matplotlib.dates as mdates\n",
    "from itertools import islice\n",
    "from collections import defaultdict\n",
    "import gluonts\n",
    "from datetime import datetime"
   ]
  },
  {
   "cell_type": "code",
   "execution_count": 4,
   "id": "b5c1defa-1c69-4496-b0dc-4ba835ba0a92",
   "metadata": {},
   "outputs": [],
   "source": [
    "from uni2ts.eval_util.plot import plot_single\n",
    "from gluonts.evaluation import make_evaluation_predictions, Evaluator\n",
    "from uni2ts.model.moirai import MoiraiForecast, MoiraiModule\n",
    "from uni2ts.eval_util.evaluation import evaluate_model"
   ]
  },
  {
   "cell_type": "code",
   "execution_count": 5,
   "id": "471e9527-3f6d-48ff-9c54-e17996765315",
   "metadata": {},
   "outputs": [],
   "source": [
    "# Data pipelining\n",
    "def get_batched_data_fn(sub_df,\n",
    "    batch_size: int = 128, \n",
    "    context_len: int = 168, \n",
    "    horizon_len: int = 24):\n",
    "    \n",
    "    examples = defaultdict(list)\n",
    "    num_examples = 0\n",
    "    for start in range(0, len(sub_df) - (context_len + horizon_len), horizon_len):\n",
    "      num_examples += 1\n",
    "      #examples[\"country\"].append(country)\n",
    "      examples[\"inputs\"].append(sub_df[\"y\"][start:(context_end := start + context_len)].tolist())\n",
    "      #examples[\"gen_forecast\"].append(sub_df[\"gen_forecast\"][start:context_end + horizon_len].tolist())\n",
    "      #examples[\"week_day\"].append(sub_df[\"week_day\"][start:context_end + horizon_len].tolist())\n",
    "      examples[\"outputs\"].append(sub_df[\"y\"][context_end:(context_end + horizon_len)].tolist())\n",
    "      examples['inputs_ts'].append(sub_df.index[start:(context_end := start + context_len)])\n",
    "      examples[\"outputs_ts\"].append(sub_df.index[context_end:(context_end + horizon_len)])\n",
    "\n",
    "    return examples"
   ]
  },
  {
   "cell_type": "code",
   "execution_count": null,
   "id": "ba2761c9-82b7-48f4-8c03-a399754c394d",
   "metadata": {
    "editable": true,
    "slideshow": {
     "slide_type": ""
    },
    "tags": []
   },
   "outputs": [],
   "source": [
    "def forecast_building(df):\n",
    "\n",
    "    # Set numerical columns as float32\n",
    "    for col in df.columns:\n",
    "        # Check if column is not of string type\n",
    "        if df[col].dtype != 'object' and pd.api.types.is_string_dtype(df[col]) == False:\n",
    "            df[col] = df[col].astype('float32')\n",
    "    \n",
    "    # Create the Pandas\n",
    "    dataset = PandasDataset.from_long_dataframe(df, target=\"target\", item_id=\"item_id\")\n",
    "\n",
    "    backtest_dataset = dataset\n",
    "    prediction_length = 24  # Define your prediction length. We use 24 here since the data is of hourly frequency\n",
    "    num_samples = 100\n",
    "\n",
    "    model = MoiraiForecast(\n",
    "    module=MoiraiModule.from_pretrained(f\"Salesforce/moirai-1.0-R-small\"),\n",
    "    prediction_length=prediction_length,\n",
    "    context_length=168,\n",
    "    patch_size='auto',\n",
    "    target_dim=1,\n",
    "    feat_dynamic_real_dim=backtest_dataset.num_feat_dynamic_real,\n",
    "    past_feat_dynamic_real_dim=backtest_dataset.num_past_feat_dynamic_real,\n",
    ")\n",
    "    predictor = model.create_predictor(batch_size=32, device=\"cuda:0\")\n",
    "\n",
    "    forecast_it, ts_it = make_evaluation_predictions(\n",
    "        dataset=backtest_dataset,\n",
    "        predictor=predictor,\n",
    "        num_samples=num_samples\n",
    "    )\n",
    "\n",
    "    forecasts = list(forecast_it)\n",
    "    tss = list(ts_it)\n",
    "\n",
    "    evaluator = Evaluator()\n",
    "    agg_metrics, ts_metrics = evaluator(iter(tss), iter(forecasts))\n",
    "\n",
    "    res_all = []\n",
    "    for ts, fc in zip(tss, forecasts):\n",
    "        res = ts[ts.index.isin(fc.index)]\n",
    "        res.columns = ['y_true']\n",
    "        res.insert(1, 'y_pred', fc.median)        \n",
    "        res_all.append(res)\n",
    "        #print(gt.shape)\n",
    "        #break\n",
    "    res_all_df = pd.concat(res_all).sort_index()\n",
    "    return res_all_df, agg_metrics, ts_metrics \n"
   ]
  },
  {
   "cell_type": "code",
   "execution_count": 7,
   "id": "8a6cfabe-29a7-43c2-8008-ae2d1a274cec",
   "metadata": {},
   "outputs": [],
   "source": [
    "def process_building(df): \n",
    "    building_name = df.columns[0]\n",
    "    df.columns = ['y']\n",
    "    input_data = get_batched_data_fn(df, batch_size=500)\n",
    "    # print(input_data)\n",
    "    \n",
    "    windows_all = []\n",
    "    counter = 1\n",
    "    for inputs_ts, inputs, outputs_ts, outputs in zip(input_data['inputs_ts'], \n",
    "                                                      input_data['inputs'], \n",
    "                                                      input_data['outputs_ts'], \n",
    "                                                      input_data['outputs']):\n",
    "        \n",
    "        input_df = pd.DataFrame({'timestamp': inputs_ts, \n",
    "                                 'target': inputs})\n",
    "        \n",
    "        output_df = pd.DataFrame({'timestamp': outputs_ts, \n",
    "                                 'target': outputs})\n",
    "        combined = pd.concat([input_df, output_df], axis=0)\n",
    "        combined['item_id'] = str(building_name) + '_' + str(counter)\n",
    "        combined['item_id_no'] = counter\n",
    "        counter += 1\n",
    "        windows_all.append(combined)\n",
    "        \n",
    "    windows_all_df = pd.concat(windows_all)\n",
    "    windows_all_df.timestamp = pd.to_datetime(windows_all_df.timestamp)\n",
    "    windows_all_df.set_index('timestamp', inplace=True)\n",
    "    windows_all_df.to_csv('test.csv')\n",
    "\n",
    "    res, agg_metrics, ts_metrics = forecast_building(windows_all_df)\n",
    "    return res, agg_metrics, ts_metrics"
   ]
  },
  {
   "cell_type": "code",
   "execution_count": null,
   "id": "b9b932a8-70c5-4217-abe2-4cc43f56c72d",
   "metadata": {},
   "outputs": [],
   "source": [
    "def process_file(filename):\n",
    "    df = pd.read_csv(filename)\n",
    "    df = df.set_index(['timestamp'])\n",
    "\n",
    "    if df.shape[1] < 2:\n",
    "        return None\n",
    "        \n",
    "    print(datetime.now(), df.shape, flush=True)\n",
    "\n",
    "    res_all = []\n",
    "    agg_metrics_all = []\n",
    "    ts_metrics_all = []\n",
    "    \n",
    "    i = 0\n",
    "    for building_name in df.columns:\n",
    "        print(datetime.now(), i, '/', len(df.columns), building_name, flush=True)\n",
    "        df1 = df[[building_name]]\n",
    "\n",
    "        res, agg_metrics, ts_metrics = process_building(df1)\n",
    "        res['building'] = building_name\n",
    "        res['filename'] = filename\n",
    "        res_all.append(res)\n",
    "        \n",
    "        ts_metrics.insert(0, 'building', building_name)\n",
    "        ts_metrics.insert(0, 'filename', filename)\n",
    "        ts_metrics = ts_metrics.sort_values(['forecast_start'])\n",
    "        ts_metrics_all.append(ts_metrics)\n",
    "        \n",
    "        agg_metrics_df = pd.DataFrame([agg_metrics])\n",
    "        agg_metrics_df.insert(0, 'building', building_name)\n",
    "        agg_metrics_df.insert(0, 'filename', filename)\n",
    "        agg_metrics_all.append(agg_metrics_df)\n",
    "\n",
    "        i += 1\n",
    "        if i % 10 == 0:\n",
    "            print(datetime.now(), 'Saving...')\n",
    "            res_all_df = pd.concat(res_all).round(6)\n",
    "            res_all_df = res_all_df.reset_index()\n",
    "            res_all_df = res_all_df.rename(columns={res_all_df.columns[0]: \"timestamp\" })\n",
    "            res_all_df.to_csv(f'../forecasts/{dataset}/{os.path.basename(filename)}', index=False)            \n",
    "\n",
    "            ts_metrics_all_df = pd.concat(ts_metrics_all).round(6)\n",
    "            ts_metrics_all_df.to_csv(f'../results/{dataset}/ts_metrics_{os.path.basename(filename)}', index=False)            \n",
    "\n",
    "            agg_metrics_all_df = pd.concat(agg_metrics_all).round(6)            \n",
    "            agg_metrics_all_df.to_csv(f'../results/{dataset}/agg_metrics_{os.path.basename(filename)}', index=False)            \n",
    "    \n",
    "    \n",
    "    res_all_df = pd.concat(res_all).round(6)\n",
    "    res_all_df = res_all_df.reset_index()\n",
    "    res_all_df = res_all_df.rename(columns={res_all_df.columns[0]: \"timestamp\" })\n",
    "    res_all_df.to_csv(f'../forecasts/{dataset}/{os.path.basename(filename)}', index=False)            \n",
    "\n",
    "    ts_metrics_all_df = pd.concat(ts_metrics_all).round(6)    \n",
    "    ts_metrics_all_df.to_csv(f'../results/{dataset}/ts_metrics_{os.path.basename(filename)}', index=False)            \n",
    "\n",
    "    agg_metrics_all_df = pd.concat(agg_metrics_all).round(6)   \n",
    "    agg_metrics_all_df.to_csv(f'../results/{dataset}/agg_metrics_{os.path.basename(filename)}', index=False)                \n",
    "\n",
    "    return res_all_df, ts_metrics_all_df, agg_metrics_all_df"
   ]
  },
  {
   "cell_type": "code",
   "execution_count": 10,
   "id": "4f2737ab-fe6f-4f79-b482-aa77dd35b952",
   "metadata": {
    "scrolled": true
   },
   "outputs": [
    {
     "name": "stdout",
     "output_type": "stream",
     "text": [
      "2024-10-23 10:57:32.658389 /home/user/New_Buildings_Datasets/Enernoc/csv-only/processed/enernoc.csv\n",
      "2024-10-23 10:57:32.781264 (8785, 100)\n",
      "2024-10-23 10:57:32.782156 0 / 100 767\n"
     ]
    },
    {
     "name": "stderr",
     "output_type": "stream",
     "text": [
      "Running evaluation: 359it [00:00, 5737.61it/s]\n",
      "/home/user/miniconda3/envs/moirai/lib/python3.10/site-packages/gluonts/evaluation/metrics.py:105: RuntimeWarning: divide by zero encountered in scalar divide\n",
      "  return np.mean(np.abs(target - forecast)) / seasonal_error\n",
      "/home/user/miniconda3/envs/moirai/lib/python3.10/site-packages/gluonts/evaluation/_base.py:425: RuntimeWarning: divide by zero encountered in scalar divide\n",
      "  metrics[\"ND\"] = cast(float, metrics[\"abs_error\"]) / cast(\n",
      "/home/user/miniconda3/envs/moirai/lib/python3.10/site-packages/gluonts/evaluation/metrics.py:154: RuntimeWarning: divide by zero encountered in scalar divide\n",
      "  return numerator / seasonal_error\n",
      "/home/user/miniconda3/envs/moirai/lib/python3.10/site-packages/gluonts/evaluation/metrics.py:105: RuntimeWarning: divide by zero encountered in scalar divide\n",
      "  return np.mean(np.abs(target - forecast)) / seasonal_error\n",
      "/home/user/miniconda3/envs/moirai/lib/python3.10/site-packages/gluonts/evaluation/_base.py:425: RuntimeWarning: divide by zero encountered in scalar divide\n",
      "  metrics[\"ND\"] = cast(float, metrics[\"abs_error\"]) / cast(\n",
      "/home/user/miniconda3/envs/moirai/lib/python3.10/site-packages/gluonts/evaluation/metrics.py:154: RuntimeWarning: divide by zero encountered in scalar divide\n",
      "  return numerator / seasonal_error\n",
      "/home/user/miniconda3/envs/moirai/lib/python3.10/site-packages/gluonts/evaluation/metrics.py:105: RuntimeWarning: divide by zero encountered in scalar divide\n",
      "  return np.mean(np.abs(target - forecast)) / seasonal_error\n",
      "/home/user/miniconda3/envs/moirai/lib/python3.10/site-packages/gluonts/evaluation/_base.py:425: RuntimeWarning: divide by zero encountered in scalar divide\n",
      "  metrics[\"ND\"] = cast(float, metrics[\"abs_error\"]) / cast(\n",
      "/home/user/miniconda3/envs/moirai/lib/python3.10/site-packages/gluonts/evaluation/metrics.py:154: RuntimeWarning: divide by zero encountered in scalar divide\n",
      "  return numerator / seasonal_error\n",
      "/home/user/miniconda3/envs/moirai/lib/python3.10/site-packages/gluonts/evaluation/metrics.py:105: RuntimeWarning: divide by zero encountered in scalar divide\n",
      "  return np.mean(np.abs(target - forecast)) / seasonal_error\n",
      "/home/user/miniconda3/envs/moirai/lib/python3.10/site-packages/gluonts/evaluation/metrics.py:154: RuntimeWarning: divide by zero encountered in scalar divide\n",
      "  return numerator / seasonal_error\n",
      "/home/user/miniconda3/envs/moirai/lib/python3.10/site-packages/gluonts/evaluation/metrics.py:105: RuntimeWarning: divide by zero encountered in scalar divide\n",
      "  return np.mean(np.abs(target - forecast)) / seasonal_error\n",
      "/home/user/miniconda3/envs/moirai/lib/python3.10/site-packages/gluonts/evaluation/_base.py:425: RuntimeWarning: divide by zero encountered in scalar divide\n",
      "  metrics[\"ND\"] = cast(float, metrics[\"abs_error\"]) / cast(\n",
      "/home/user/miniconda3/envs/moirai/lib/python3.10/site-packages/gluonts/evaluation/metrics.py:154: RuntimeWarning: divide by zero encountered in scalar divide\n",
      "  return numerator / seasonal_error\n",
      "/home/user/miniconda3/envs/moirai/lib/python3.10/site-packages/pandas/core/dtypes/astype.py:134: UserWarning: Warning: converting a masked element to nan.\n",
      "  return arr.astype(dtype, copy=True)\n"
     ]
    },
    {
     "name": "stdout",
     "output_type": "stream",
     "text": [
      "2024-10-23 10:57:39.476665 1 / 100 304\n"
     ]
    },
    {
     "name": "stderr",
     "output_type": "stream",
     "text": [
      "Running evaluation: 359it [00:00, 7637.46it/s]\n"
     ]
    },
    {
     "name": "stdout",
     "output_type": "stream",
     "text": [
      "2024-10-23 10:57:44.633441 2 / 100 399\n"
     ]
    },
    {
     "name": "stderr",
     "output_type": "stream",
     "text": [
      "Running evaluation: 359it [00:00, 7714.07it/s]\n"
     ]
    },
    {
     "name": "stdout",
     "output_type": "stream",
     "text": [
      "2024-10-23 10:57:50.089505 3 / 100 21\n"
     ]
    },
    {
     "name": "stderr",
     "output_type": "stream",
     "text": [
      "Running evaluation: 359it [00:00, 7337.24it/s]\n"
     ]
    },
    {
     "name": "stdout",
     "output_type": "stream",
     "text": [
      "2024-10-23 10:57:55.121645 4 / 100 805\n"
     ]
    },
    {
     "name": "stderr",
     "output_type": "stream",
     "text": [
      "Running evaluation: 359it [00:00, 8125.51it/s]\n"
     ]
    },
    {
     "name": "stdout",
     "output_type": "stream",
     "text": [
      "2024-10-23 10:58:00.545646 5 / 100 14\n"
     ]
    },
    {
     "name": "stderr",
     "output_type": "stream",
     "text": [
      "Running evaluation: 359it [00:00, 7676.78it/s]\n"
     ]
    },
    {
     "name": "stdout",
     "output_type": "stream",
     "text": [
      "2024-10-23 10:58:05.622474 6 / 100 404\n"
     ]
    },
    {
     "name": "stderr",
     "output_type": "stream",
     "text": [
      "Running evaluation: 359it [00:00, 7989.40it/s]\n"
     ]
    },
    {
     "name": "stdout",
     "output_type": "stream",
     "text": [
      "2024-10-23 10:58:10.779858 7 / 100 78\n"
     ]
    },
    {
     "name": "stderr",
     "output_type": "stream",
     "text": [
      "Running evaluation: 359it [00:00, 8391.65it/s]\n"
     ]
    },
    {
     "name": "stdout",
     "output_type": "stream",
     "text": [
      "2024-10-23 10:58:15.856785 8 / 100 731\n"
     ]
    },
    {
     "name": "stderr",
     "output_type": "stream",
     "text": [
      "Running evaluation: 359it [00:00, 7823.81it/s]\n"
     ]
    },
    {
     "name": "stdout",
     "output_type": "stream",
     "text": [
      "2024-10-23 10:58:21.173233 9 / 100 218\n"
     ]
    },
    {
     "name": "stderr",
     "output_type": "stream",
     "text": [
      "Running evaluation: 359it [00:00, 8069.73it/s]\n"
     ]
    },
    {
     "name": "stdout",
     "output_type": "stream",
     "text": [
      "2024-10-23 10:58:26.299251 Saving...\n",
      "2024-10-23 10:58:26.958954 10 / 100 366\n"
     ]
    },
    {
     "name": "stderr",
     "output_type": "stream",
     "text": [
      "Running evaluation: 359it [00:00, 8251.39it/s]\n"
     ]
    },
    {
     "name": "stdout",
     "output_type": "stream",
     "text": [
      "2024-10-23 10:58:31.909946 11 / 100 766\n"
     ]
    },
    {
     "name": "stderr",
     "output_type": "stream",
     "text": [
      "Running evaluation: 359it [00:00, 7867.59it/s]\n"
     ]
    },
    {
     "name": "stdout",
     "output_type": "stream",
     "text": [
      "2024-10-23 10:58:37.475670 12 / 100 197\n"
     ]
    },
    {
     "name": "stderr",
     "output_type": "stream",
     "text": [
      "Running evaluation: 359it [00:00, 7939.40it/s]\n"
     ]
    },
    {
     "name": "stdout",
     "output_type": "stream",
     "text": [
      "2024-10-23 10:58:42.470797 13 / 100 30\n"
     ]
    },
    {
     "name": "stderr",
     "output_type": "stream",
     "text": [
      "Running evaluation: 359it [00:00, 7381.59it/s]\n"
     ]
    },
    {
     "name": "stdout",
     "output_type": "stream",
     "text": [
      "2024-10-23 10:58:47.462024 14 / 100 742\n"
     ]
    },
    {
     "name": "stderr",
     "output_type": "stream",
     "text": [
      "Running evaluation: 359it [00:00, 7698.88it/s]\n"
     ]
    },
    {
     "name": "stdout",
     "output_type": "stream",
     "text": [
      "2024-10-23 10:58:52.681657 15 / 100 32\n"
     ]
    },
    {
     "name": "stderr",
     "output_type": "stream",
     "text": [
      "Running evaluation: 359it [00:00, 8233.84it/s]\n"
     ]
    },
    {
     "name": "stdout",
     "output_type": "stream",
     "text": [
      "2024-10-23 10:58:57.982655 16 / 100 137\n"
     ]
    },
    {
     "name": "stderr",
     "output_type": "stream",
     "text": [
      "Running evaluation: 359it [00:00, 8095.98it/s]\n",
      "/home/user/miniconda3/envs/moirai/lib/python3.10/site-packages/gluonts/evaluation/_base.py:425: RuntimeWarning: divide by zero encountered in scalar divide\n",
      "  metrics[\"ND\"] = cast(float, metrics[\"abs_error\"]) / cast(\n",
      "/home/user/miniconda3/envs/moirai/lib/python3.10/site-packages/gluonts/evaluation/_base.py:425: RuntimeWarning: divide by zero encountered in scalar divide\n",
      "  metrics[\"ND\"] = cast(float, metrics[\"abs_error\"]) / cast(\n",
      "/home/user/miniconda3/envs/moirai/lib/python3.10/site-packages/pandas/core/dtypes/astype.py:134: UserWarning: Warning: converting a masked element to nan.\n",
      "  return arr.astype(dtype, copy=True)\n"
     ]
    },
    {
     "name": "stdout",
     "output_type": "stream",
     "text": [
      "2024-10-23 10:59:03.089997 17 / 100 36\n"
     ]
    },
    {
     "name": "stderr",
     "output_type": "stream",
     "text": [
      "Running evaluation: 359it [00:00, 7506.03it/s]\n"
     ]
    },
    {
     "name": "stdout",
     "output_type": "stream",
     "text": [
      "2024-10-23 10:59:08.094732 18 / 100 9\n"
     ]
    },
    {
     "name": "stderr",
     "output_type": "stream",
     "text": [
      "Running evaluation: 359it [00:00, 7599.30it/s]\n",
      "/home/user/miniconda3/envs/moirai/lib/python3.10/site-packages/gluonts/evaluation/_base.py:425: RuntimeWarning: divide by zero encountered in scalar divide\n",
      "  metrics[\"ND\"] = cast(float, metrics[\"abs_error\"]) / cast(\n",
      "/home/user/miniconda3/envs/moirai/lib/python3.10/site-packages/gluonts/evaluation/_base.py:425: RuntimeWarning: divide by zero encountered in scalar divide\n",
      "  metrics[\"ND\"] = cast(float, metrics[\"abs_error\"]) / cast(\n",
      "/home/user/miniconda3/envs/moirai/lib/python3.10/site-packages/gluonts/evaluation/_base.py:425: RuntimeWarning: divide by zero encountered in scalar divide\n",
      "  metrics[\"ND\"] = cast(float, metrics[\"abs_error\"]) / cast(\n",
      "/home/user/miniconda3/envs/moirai/lib/python3.10/site-packages/pandas/core/dtypes/astype.py:134: UserWarning: Warning: converting a masked element to nan.\n",
      "  return arr.astype(dtype, copy=True)\n"
     ]
    },
    {
     "name": "stdout",
     "output_type": "stream",
     "text": [
      "2024-10-23 10:59:13.443661 19 / 100 808\n"
     ]
    },
    {
     "name": "stderr",
     "output_type": "stream",
     "text": [
      "Running evaluation: 359it [00:00, 7661.86it/s]\n"
     ]
    },
    {
     "name": "stdout",
     "output_type": "stream",
     "text": [
      "2024-10-23 10:59:18.383277 Saving...\n",
      "2024-10-23 10:59:19.674925 20 / 100 391\n"
     ]
    },
    {
     "name": "stderr",
     "output_type": "stream",
     "text": [
      "Running evaluation: 359it [00:00, 7483.69it/s]\n"
     ]
    },
    {
     "name": "stdout",
     "output_type": "stream",
     "text": [
      "2024-10-23 10:59:24.627281 21 / 100 213\n"
     ]
    },
    {
     "name": "stderr",
     "output_type": "stream",
     "text": [
      "Running evaluation: 359it [00:00, 7554.50it/s]\n"
     ]
    },
    {
     "name": "stdout",
     "output_type": "stream",
     "text": [
      "2024-10-23 10:59:29.997806 22 / 100 236\n"
     ]
    },
    {
     "name": "stderr",
     "output_type": "stream",
     "text": [
      "Running evaluation: 359it [00:00, 8042.45it/s]\n"
     ]
    },
    {
     "name": "stdout",
     "output_type": "stream",
     "text": [
      "2024-10-23 10:59:34.947321 23 / 100 6\n"
     ]
    },
    {
     "name": "stderr",
     "output_type": "stream",
     "text": [
      "Running evaluation: 359it [00:00, 7247.29it/s]\n"
     ]
    },
    {
     "name": "stdout",
     "output_type": "stream",
     "text": [
      "2024-10-23 10:59:40.082714 24 / 100 224\n"
     ]
    },
    {
     "name": "stderr",
     "output_type": "stream",
     "text": [
      "Running evaluation: 359it [00:00, 7570.18it/s]\n"
     ]
    },
    {
     "name": "stdout",
     "output_type": "stream",
     "text": [
      "2024-10-23 10:59:45.405998 25 / 100 45\n"
     ]
    },
    {
     "name": "stderr",
     "output_type": "stream",
     "text": [
      "Running evaluation: 359it [00:00, 7299.29it/s]\n"
     ]
    },
    {
     "name": "stdout",
     "output_type": "stream",
     "text": [
      "2024-10-23 10:59:50.473783 26 / 100 771\n"
     ]
    },
    {
     "name": "stderr",
     "output_type": "stream",
     "text": [
      "Running evaluation: 359it [00:00, 7269.51it/s]\n"
     ]
    },
    {
     "name": "stdout",
     "output_type": "stream",
     "text": [
      "2024-10-23 10:59:56.018656 27 / 100 492\n"
     ]
    },
    {
     "name": "stderr",
     "output_type": "stream",
     "text": [
      "Running evaluation: 359it [00:00, 7656.95it/s]\n"
     ]
    },
    {
     "name": "stdout",
     "output_type": "stream",
     "text": [
      "2024-10-23 11:00:01.082976 28 / 100 384\n"
     ]
    },
    {
     "name": "stderr",
     "output_type": "stream",
     "text": [
      "Running evaluation: 359it [00:00, 8280.43it/s]\n"
     ]
    },
    {
     "name": "stdout",
     "output_type": "stream",
     "text": [
      "2024-10-23 11:00:06.445006 29 / 100 153\n"
     ]
    },
    {
     "name": "stderr",
     "output_type": "stream",
     "text": [
      "Running evaluation: 359it [00:00, 7905.01it/s]\n"
     ]
    },
    {
     "name": "stdout",
     "output_type": "stream",
     "text": [
      "2024-10-23 11:00:11.643753 Saving...\n",
      "2024-10-23 11:00:13.439621 30 / 100 136\n"
     ]
    },
    {
     "name": "stderr",
     "output_type": "stream",
     "text": [
      "Running evaluation: 359it [00:00, 7301.94it/s]\n"
     ]
    },
    {
     "name": "stdout",
     "output_type": "stream",
     "text": [
      "2024-10-23 11:00:18.569071 31 / 100 386\n"
     ]
    },
    {
     "name": "stderr",
     "output_type": "stream",
     "text": [
      "Running evaluation: 359it [00:00, 7354.91it/s]\n"
     ]
    },
    {
     "name": "stdout",
     "output_type": "stream",
     "text": [
      "2024-10-23 11:00:24.070043 32 / 100 51\n"
     ]
    },
    {
     "name": "stderr",
     "output_type": "stream",
     "text": [
      "Running evaluation: 359it [00:00, 7244.71it/s]\n"
     ]
    },
    {
     "name": "stdout",
     "output_type": "stream",
     "text": [
      "2024-10-23 11:00:28.991524 33 / 100 472\n"
     ]
    },
    {
     "name": "stderr",
     "output_type": "stream",
     "text": [
      "Running evaluation: 359it [00:00, 7418.10it/s]\n"
     ]
    },
    {
     "name": "stdout",
     "output_type": "stream",
     "text": [
      "2024-10-23 11:00:34.218104 34 / 100 281\n"
     ]
    },
    {
     "name": "stderr",
     "output_type": "stream",
     "text": [
      "Running evaluation: 359it [00:00, 8240.60it/s]\n"
     ]
    },
    {
     "name": "stdout",
     "output_type": "stream",
     "text": [
      "2024-10-23 11:00:39.347021 35 / 100 474\n"
     ]
    },
    {
     "name": "stderr",
     "output_type": "stream",
     "text": [
      "Running evaluation: 359it [00:00, 7513.07it/s]\n"
     ]
    },
    {
     "name": "stdout",
     "output_type": "stream",
     "text": [
      "2024-10-23 11:00:44.277742 36 / 100 697\n"
     ]
    },
    {
     "name": "stderr",
     "output_type": "stream",
     "text": [
      "Running evaluation: 359it [00:00, 7765.59it/s]\n"
     ]
    },
    {
     "name": "stdout",
     "output_type": "stream",
     "text": [
      "2024-10-23 11:00:49.439195 37 / 100 49\n"
     ]
    },
    {
     "name": "stderr",
     "output_type": "stream",
     "text": [
      "Running evaluation: 359it [00:00, 7307.61it/s]\n"
     ]
    },
    {
     "name": "stdout",
     "output_type": "stream",
     "text": [
      "2024-10-23 11:00:54.420130 38 / 100 755\n"
     ]
    },
    {
     "name": "stderr",
     "output_type": "stream",
     "text": [
      "Running evaluation: 359it [00:00, 7859.13it/s]\n",
      "/home/user/miniconda3/envs/moirai/lib/python3.10/site-packages/gluonts/evaluation/_base.py:425: RuntimeWarning: divide by zero encountered in scalar divide\n",
      "  metrics[\"ND\"] = cast(float, metrics[\"abs_error\"]) / cast(\n",
      "/home/user/miniconda3/envs/moirai/lib/python3.10/site-packages/pandas/core/dtypes/astype.py:134: UserWarning: Warning: converting a masked element to nan.\n",
      "  return arr.astype(dtype, copy=True)\n"
     ]
    },
    {
     "name": "stdout",
     "output_type": "stream",
     "text": [
      "2024-10-23 11:00:59.565386 39 / 100 228\n"
     ]
    },
    {
     "name": "stderr",
     "output_type": "stream",
     "text": [
      "Running evaluation: 359it [00:00, 7769.75it/s]\n"
     ]
    },
    {
     "name": "stdout",
     "output_type": "stream",
     "text": [
      "2024-10-23 11:01:04.682966 Saving...\n",
      "2024-10-23 11:01:06.985071 40 / 100 427\n"
     ]
    },
    {
     "name": "stderr",
     "output_type": "stream",
     "text": [
      "Running evaluation: 359it [00:00, 7634.32it/s]\n"
     ]
    },
    {
     "name": "stdout",
     "output_type": "stream",
     "text": [
      "2024-10-23 11:01:12.066560 41 / 100 454\n"
     ]
    },
    {
     "name": "stderr",
     "output_type": "stream",
     "text": [
      "Running evaluation: 359it [00:00, 7778.58it/s]\n"
     ]
    },
    {
     "name": "stdout",
     "output_type": "stream",
     "text": [
      "2024-10-23 11:01:16.963208 42 / 100 690\n"
     ]
    },
    {
     "name": "stderr",
     "output_type": "stream",
     "text": [
      "Running evaluation: 359it [00:00, 7643.16it/s]\n",
      "/home/user/miniconda3/envs/moirai/lib/python3.10/site-packages/gluonts/evaluation/_base.py:425: RuntimeWarning: divide by zero encountered in scalar divide\n",
      "  metrics[\"ND\"] = cast(float, metrics[\"abs_error\"]) / cast(\n"
     ]
    },
    {
     "name": "stdout",
     "output_type": "stream",
     "text": [
      "2024-10-23 11:01:22.088293 43 / 100 703\n"
     ]
    },
    {
     "name": "stderr",
     "output_type": "stream",
     "text": [
      "/home/user/miniconda3/envs/moirai/lib/python3.10/site-packages/pandas/core/dtypes/astype.py:134: UserWarning: Warning: converting a masked element to nan.\n",
      "  return arr.astype(dtype, copy=True)\n",
      "Running evaluation: 359it [00:00, 7306.44it/s]\n",
      "/home/user/miniconda3/envs/moirai/lib/python3.10/site-packages/gluonts/evaluation/_base.py:425: RuntimeWarning: divide by zero encountered in scalar divide\n",
      "  metrics[\"ND\"] = cast(float, metrics[\"abs_error\"]) / cast(\n",
      "/home/user/miniconda3/envs/moirai/lib/python3.10/site-packages/gluonts/evaluation/_base.py:425: RuntimeWarning: divide by zero encountered in scalar divide\n",
      "  metrics[\"ND\"] = cast(float, metrics[\"abs_error\"]) / cast(\n",
      "/home/user/miniconda3/envs/moirai/lib/python3.10/site-packages/gluonts/evaluation/_base.py:425: RuntimeWarning: divide by zero encountered in scalar divide\n",
      "  metrics[\"ND\"] = cast(float, metrics[\"abs_error\"]) / cast(\n",
      "/home/user/miniconda3/envs/moirai/lib/python3.10/site-packages/pandas/core/dtypes/astype.py:134: UserWarning: Warning: converting a masked element to nan.\n",
      "  return arr.astype(dtype, copy=True)\n"
     ]
    },
    {
     "name": "stdout",
     "output_type": "stream",
     "text": [
      "2024-10-23 11:01:26.976287 44 / 100 259\n"
     ]
    },
    {
     "name": "stderr",
     "output_type": "stream",
     "text": [
      "Running evaluation: 359it [00:00, 7949.50it/s]\n",
      "/home/user/miniconda3/envs/moirai/lib/python3.10/site-packages/gluonts/evaluation/_base.py:425: RuntimeWarning: divide by zero encountered in scalar divide\n",
      "  metrics[\"ND\"] = cast(float, metrics[\"abs_error\"]) / cast(\n",
      "/home/user/miniconda3/envs/moirai/lib/python3.10/site-packages/gluonts/evaluation/_base.py:425: RuntimeWarning: divide by zero encountered in scalar divide\n",
      "  metrics[\"ND\"] = cast(float, metrics[\"abs_error\"]) / cast(\n",
      "/home/user/miniconda3/envs/moirai/lib/python3.10/site-packages/gluonts/evaluation/_base.py:425: RuntimeWarning: divide by zero encountered in scalar divide\n",
      "  metrics[\"ND\"] = cast(float, metrics[\"abs_error\"]) / cast(\n",
      "/home/user/miniconda3/envs/moirai/lib/python3.10/site-packages/pandas/core/dtypes/astype.py:134: UserWarning: Warning: converting a masked element to nan.\n",
      "  return arr.astype(dtype, copy=True)\n"
     ]
    },
    {
     "name": "stdout",
     "output_type": "stream",
     "text": [
      "2024-10-23 11:01:32.485100 45 / 100 648\n"
     ]
    },
    {
     "name": "stderr",
     "output_type": "stream",
     "text": [
      "Running evaluation: 359it [00:00, 7965.23it/s]\n"
     ]
    },
    {
     "name": "stdout",
     "output_type": "stream",
     "text": [
      "2024-10-23 11:01:37.425643 46 / 100 341\n"
     ]
    },
    {
     "name": "stderr",
     "output_type": "stream",
     "text": [
      "Running evaluation: 359it [00:00, 7712.17it/s]\n"
     ]
    },
    {
     "name": "stdout",
     "output_type": "stream",
     "text": [
      "2024-10-23 11:01:42.825635 47 / 100 44\n"
     ]
    },
    {
     "name": "stderr",
     "output_type": "stream",
     "text": [
      "Running evaluation: 359it [00:00, 7190.43it/s]\n",
      "/home/user/miniconda3/envs/moirai/lib/python3.10/site-packages/gluonts/evaluation/_base.py:425: RuntimeWarning: divide by zero encountered in scalar divide\n",
      "  metrics[\"ND\"] = cast(float, metrics[\"abs_error\"]) / cast(\n"
     ]
    },
    {
     "name": "stdout",
     "output_type": "stream",
     "text": [
      "2024-10-23 11:01:47.870118 48 / 100 275\n"
     ]
    },
    {
     "name": "stderr",
     "output_type": "stream",
     "text": [
      "/home/user/miniconda3/envs/moirai/lib/python3.10/site-packages/pandas/core/dtypes/astype.py:134: UserWarning: Warning: converting a masked element to nan.\n",
      "  return arr.astype(dtype, copy=True)\n",
      "Running evaluation: 359it [00:00, 7369.16it/s]\n"
     ]
    },
    {
     "name": "stdout",
     "output_type": "stream",
     "text": [
      "2024-10-23 11:01:52.936929 49 / 100 718\n"
     ]
    },
    {
     "name": "stderr",
     "output_type": "stream",
     "text": [
      "Running evaluation: 359it [00:00, 7567.71it/s]\n"
     ]
    },
    {
     "name": "stdout",
     "output_type": "stream",
     "text": [
      "2024-10-23 11:01:58.388216 Saving...\n",
      "2024-10-23 11:02:00.949893 50 / 100 25\n"
     ]
    },
    {
     "name": "stderr",
     "output_type": "stream",
     "text": [
      "Running evaluation: 359it [00:00, 7446.93it/s]\n"
     ]
    },
    {
     "name": "stdout",
     "output_type": "stream",
     "text": [
      "2024-10-23 11:02:05.966175 51 / 100 65\n"
     ]
    },
    {
     "name": "stderr",
     "output_type": "stream",
     "text": [
      "Running evaluation: 359it [00:00, 7552.19it/s]\n"
     ]
    },
    {
     "name": "stdout",
     "output_type": "stream",
     "text": [
      "2024-10-23 11:02:10.769060 52 / 100 455\n"
     ]
    },
    {
     "name": "stderr",
     "output_type": "stream",
     "text": [
      "Running evaluation: 359it [00:00, 7308.11it/s]\n"
     ]
    },
    {
     "name": "stdout",
     "output_type": "stream",
     "text": [
      "2024-10-23 11:02:16.017738 53 / 100 101\n"
     ]
    },
    {
     "name": "stderr",
     "output_type": "stream",
     "text": [
      "Running evaluation: 359it [00:00, 7446.93it/s]\n"
     ]
    },
    {
     "name": "stdout",
     "output_type": "stream",
     "text": [
      "2024-10-23 11:02:21.042047 54 / 100 673\n"
     ]
    },
    {
     "name": "stderr",
     "output_type": "stream",
     "text": [
      "Running evaluation: 359it [00:00, 6978.49it/s]\n"
     ]
    },
    {
     "name": "stdout",
     "output_type": "stream",
     "text": [
      "2024-10-23 11:02:26.622663 55 / 100 31\n"
     ]
    },
    {
     "name": "stderr",
     "output_type": "stream",
     "text": [
      "Running evaluation: 359it [00:00, 7095.52it/s]\n"
     ]
    },
    {
     "name": "stdout",
     "output_type": "stream",
     "text": [
      "2024-10-23 11:02:32.173802 56 / 100 10\n"
     ]
    },
    {
     "name": "stderr",
     "output_type": "stream",
     "text": [
      "Running evaluation: 359it [00:00, 7939.99it/s]\n"
     ]
    },
    {
     "name": "stdout",
     "output_type": "stream",
     "text": [
      "2024-10-23 11:02:37.493854 57 / 100 761\n"
     ]
    },
    {
     "name": "stderr",
     "output_type": "stream",
     "text": [
      "Running evaluation: 359it [00:00, 8042.92it/s]\n"
     ]
    },
    {
     "name": "stdout",
     "output_type": "stream",
     "text": [
      "2024-10-23 11:02:42.520591 58 / 100 478\n"
     ]
    },
    {
     "name": "stderr",
     "output_type": "stream",
     "text": [
      "Running evaluation: 359it [00:00, 7601.75it/s]\n"
     ]
    },
    {
     "name": "stdout",
     "output_type": "stream",
     "text": [
      "2024-10-23 11:02:47.777061 59 / 100 100\n"
     ]
    },
    {
     "name": "stderr",
     "output_type": "stream",
     "text": [
      "Running evaluation: 359it [00:00, 7840.35it/s]\n"
     ]
    },
    {
     "name": "stdout",
     "output_type": "stream",
     "text": [
      "2024-10-23 11:02:52.894530 Saving...\n",
      "2024-10-23 11:02:56.206326 60 / 100 22\n"
     ]
    },
    {
     "name": "stderr",
     "output_type": "stream",
     "text": [
      "Running evaluation: 359it [00:00, 7951.69it/s]\n",
      "/home/user/miniconda3/envs/moirai/lib/python3.10/site-packages/gluonts/evaluation/metrics.py:105: RuntimeWarning: divide by zero encountered in scalar divide\n",
      "  return np.mean(np.abs(target - forecast)) / seasonal_error\n",
      "/home/user/miniconda3/envs/moirai/lib/python3.10/site-packages/gluonts/evaluation/_base.py:425: RuntimeWarning: divide by zero encountered in scalar divide\n",
      "  metrics[\"ND\"] = cast(float, metrics[\"abs_error\"]) / cast(\n",
      "/home/user/miniconda3/envs/moirai/lib/python3.10/site-packages/gluonts/evaluation/metrics.py:154: RuntimeWarning: divide by zero encountered in scalar divide\n",
      "  return numerator / seasonal_error\n",
      "/home/user/miniconda3/envs/moirai/lib/python3.10/site-packages/gluonts/evaluation/metrics.py:105: RuntimeWarning: divide by zero encountered in scalar divide\n",
      "  return np.mean(np.abs(target - forecast)) / seasonal_error\n",
      "/home/user/miniconda3/envs/moirai/lib/python3.10/site-packages/gluonts/evaluation/_base.py:425: RuntimeWarning: divide by zero encountered in scalar divide\n",
      "  metrics[\"ND\"] = cast(float, metrics[\"abs_error\"]) / cast(\n",
      "/home/user/miniconda3/envs/moirai/lib/python3.10/site-packages/gluonts/evaluation/metrics.py:154: RuntimeWarning: divide by zero encountered in scalar divide\n",
      "  return numerator / seasonal_error\n",
      "/home/user/miniconda3/envs/moirai/lib/python3.10/site-packages/gluonts/evaluation/metrics.py:105: RuntimeWarning: divide by zero encountered in scalar divide\n",
      "  return np.mean(np.abs(target - forecast)) / seasonal_error\n",
      "/home/user/miniconda3/envs/moirai/lib/python3.10/site-packages/gluonts/evaluation/_base.py:425: RuntimeWarning: divide by zero encountered in scalar divide\n",
      "  metrics[\"ND\"] = cast(float, metrics[\"abs_error\"]) / cast(\n",
      "/home/user/miniconda3/envs/moirai/lib/python3.10/site-packages/gluonts/evaluation/metrics.py:154: RuntimeWarning: divide by zero encountered in scalar divide\n",
      "  return numerator / seasonal_error\n",
      "/home/user/miniconda3/envs/moirai/lib/python3.10/site-packages/gluonts/evaluation/metrics.py:105: RuntimeWarning: divide by zero encountered in scalar divide\n",
      "  return np.mean(np.abs(target - forecast)) / seasonal_error\n",
      "/home/user/miniconda3/envs/moirai/lib/python3.10/site-packages/gluonts/evaluation/metrics.py:154: RuntimeWarning: divide by zero encountered in scalar divide\n",
      "  return numerator / seasonal_error\n",
      "/home/user/miniconda3/envs/moirai/lib/python3.10/site-packages/gluonts/evaluation/metrics.py:105: RuntimeWarning: divide by zero encountered in scalar divide\n",
      "  return np.mean(np.abs(target - forecast)) / seasonal_error\n",
      "/home/user/miniconda3/envs/moirai/lib/python3.10/site-packages/gluonts/evaluation/_base.py:425: RuntimeWarning: divide by zero encountered in scalar divide\n",
      "  metrics[\"ND\"] = cast(float, metrics[\"abs_error\"]) / cast(\n",
      "/home/user/miniconda3/envs/moirai/lib/python3.10/site-packages/gluonts/evaluation/metrics.py:154: RuntimeWarning: divide by zero encountered in scalar divide\n",
      "  return numerator / seasonal_error\n"
     ]
    },
    {
     "name": "stdout",
     "output_type": "stream",
     "text": [
      "2024-10-23 11:03:01.280729 61 / 100 41\n"
     ]
    },
    {
     "name": "stderr",
     "output_type": "stream",
     "text": [
      "/home/user/miniconda3/envs/moirai/lib/python3.10/site-packages/pandas/core/dtypes/astype.py:134: UserWarning: Warning: converting a masked element to nan.\n",
      "  return arr.astype(dtype, copy=True)\n",
      "Running evaluation: 359it [00:00, 8261.12it/s]\n",
      "/home/user/miniconda3/envs/moirai/lib/python3.10/site-packages/gluonts/evaluation/_base.py:425: RuntimeWarning: divide by zero encountered in scalar divide\n",
      "  metrics[\"ND\"] = cast(float, metrics[\"abs_error\"]) / cast(\n",
      "/home/user/miniconda3/envs/moirai/lib/python3.10/site-packages/gluonts/evaluation/_base.py:425: RuntimeWarning: divide by zero encountered in scalar divide\n",
      "  metrics[\"ND\"] = cast(float, metrics[\"abs_error\"]) / cast(\n",
      "/home/user/miniconda3/envs/moirai/lib/python3.10/site-packages/gluonts/evaluation/_base.py:425: RuntimeWarning: divide by zero encountered in scalar divide\n",
      "  metrics[\"ND\"] = cast(float, metrics[\"abs_error\"]) / cast(\n",
      "/home/user/miniconda3/envs/moirai/lib/python3.10/site-packages/pandas/core/dtypes/astype.py:134: UserWarning: Warning: converting a masked element to nan.\n",
      "  return arr.astype(dtype, copy=True)\n"
     ]
    },
    {
     "name": "stdout",
     "output_type": "stream",
     "text": [
      "2024-10-23 11:03:06.572286 62 / 100 496\n"
     ]
    },
    {
     "name": "stderr",
     "output_type": "stream",
     "text": [
      "Running evaluation: 359it [00:00, 7864.72it/s]\n"
     ]
    },
    {
     "name": "stdout",
     "output_type": "stream",
     "text": [
      "2024-10-23 11:03:11.819374 63 / 100 217\n"
     ]
    },
    {
     "name": "stderr",
     "output_type": "stream",
     "text": [
      "Running evaluation: 359it [00:00, 7123.55it/s]\n"
     ]
    },
    {
     "name": "stdout",
     "output_type": "stream",
     "text": [
      "2024-10-23 11:03:17.087243 64 / 100 144\n"
     ]
    },
    {
     "name": "stderr",
     "output_type": "stream",
     "text": [
      "Running evaluation: 359it [00:00, 7414.48it/s]\n"
     ]
    },
    {
     "name": "stdout",
     "output_type": "stream",
     "text": [
      "2024-10-23 11:03:22.049329 65 / 100 214\n"
     ]
    },
    {
     "name": "stderr",
     "output_type": "stream",
     "text": [
      "Running evaluation: 359it [00:00, 7949.50it/s]\n",
      "/home/user/miniconda3/envs/moirai/lib/python3.10/site-packages/gluonts/evaluation/_base.py:425: RuntimeWarning: divide by zero encountered in scalar divide\n",
      "  metrics[\"ND\"] = cast(float, metrics[\"abs_error\"]) / cast(\n",
      "/home/user/miniconda3/envs/moirai/lib/python3.10/site-packages/gluonts/evaluation/_base.py:425: RuntimeWarning: divide by zero encountered in scalar divide\n",
      "  metrics[\"ND\"] = cast(float, metrics[\"abs_error\"]) / cast(\n",
      "/home/user/miniconda3/envs/moirai/lib/python3.10/site-packages/gluonts/evaluation/_base.py:425: RuntimeWarning: divide by zero encountered in scalar divide\n",
      "  metrics[\"ND\"] = cast(float, metrics[\"abs_error\"]) / cast(\n",
      "/home/user/miniconda3/envs/moirai/lib/python3.10/site-packages/gluonts/evaluation/_base.py:425: RuntimeWarning: divide by zero encountered in scalar divide\n",
      "  metrics[\"ND\"] = cast(float, metrics[\"abs_error\"]) / cast(\n"
     ]
    },
    {
     "name": "stdout",
     "output_type": "stream",
     "text": [
      "2024-10-23 11:03:27.284258 66 / 100 512\n"
     ]
    },
    {
     "name": "stderr",
     "output_type": "stream",
     "text": [
      "/home/user/miniconda3/envs/moirai/lib/python3.10/site-packages/pandas/core/dtypes/astype.py:134: UserWarning: Warning: converting a masked element to nan.\n",
      "  return arr.astype(dtype, copy=True)\n",
      "Running evaluation: 359it [00:00, 7587.31it/s]\n"
     ]
    },
    {
     "name": "stdout",
     "output_type": "stream",
     "text": [
      "2024-10-23 11:03:32.297189 67 / 100 654\n"
     ]
    },
    {
     "name": "stderr",
     "output_type": "stream",
     "text": [
      "Running evaluation: 359it [00:00, 7862.58it/s]\n"
     ]
    },
    {
     "name": "stdout",
     "output_type": "stream",
     "text": [
      "2024-10-23 11:03:37.484971 68 / 100 363\n"
     ]
    },
    {
     "name": "stderr",
     "output_type": "stream",
     "text": [
      "Running evaluation: 359it [00:00, 7740.80it/s]\n"
     ]
    },
    {
     "name": "stdout",
     "output_type": "stream",
     "text": [
      "2024-10-23 11:03:42.760311 69 / 100 109\n"
     ]
    },
    {
     "name": "stderr",
     "output_type": "stream",
     "text": [
      "Running evaluation: 359it [00:00, 7238.30it/s]\n"
     ]
    },
    {
     "name": "stdout",
     "output_type": "stream",
     "text": [
      "2024-10-23 11:03:47.809929 Saving...\n",
      "2024-10-23 11:03:51.827361 70 / 100 116\n"
     ]
    },
    {
     "name": "stderr",
     "output_type": "stream",
     "text": [
      "Running evaluation: 359it [00:00, 7614.94it/s]\n"
     ]
    },
    {
     "name": "stdout",
     "output_type": "stream",
     "text": [
      "2024-10-23 11:03:56.943977 71 / 100 111\n"
     ]
    },
    {
     "name": "stderr",
     "output_type": "stream",
     "text": [
      "Running evaluation: 359it [00:00, 7725.51it/s]\n"
     ]
    },
    {
     "name": "stdout",
     "output_type": "stream",
     "text": [
      "2024-10-23 11:04:02.279030 72 / 100 55\n"
     ]
    },
    {
     "name": "stderr",
     "output_type": "stream",
     "text": [
      "Running evaluation: 359it [00:00, 7091.65it/s]\n"
     ]
    },
    {
     "name": "stdout",
     "output_type": "stream",
     "text": [
      "2024-10-23 11:04:07.455339 73 / 100 832\n"
     ]
    },
    {
     "name": "stderr",
     "output_type": "stream",
     "text": [
      "Running evaluation: 359it [00:00, 7638.00it/s]\n"
     ]
    },
    {
     "name": "stdout",
     "output_type": "stream",
     "text": [
      "2024-10-23 11:04:12.812306 74 / 100 401\n"
     ]
    },
    {
     "name": "stderr",
     "output_type": "stream",
     "text": [
      "Running evaluation: 359it [00:00, 7491.32it/s]\n"
     ]
    },
    {
     "name": "stdout",
     "output_type": "stream",
     "text": [
      "2024-10-23 11:04:17.886311 75 / 100 99\n"
     ]
    },
    {
     "name": "stderr",
     "output_type": "stream",
     "text": [
      "Running evaluation: 359it [00:00, 7888.16it/s]\n"
     ]
    },
    {
     "name": "stdout",
     "output_type": "stream",
     "text": [
      "2024-10-23 11:04:23.428157 76 / 100 270\n"
     ]
    },
    {
     "name": "stderr",
     "output_type": "stream",
     "text": [
      "Running evaluation: 359it [00:00, 7890.89it/s]\n"
     ]
    },
    {
     "name": "stdout",
     "output_type": "stream",
     "text": [
      "2024-10-23 11:04:28.584810 77 / 100 29\n"
     ]
    },
    {
     "name": "stderr",
     "output_type": "stream",
     "text": [
      "Running evaluation: 359it [00:00, 8295.99it/s]\n"
     ]
    },
    {
     "name": "stdout",
     "output_type": "stream",
     "text": [
      "2024-10-23 11:04:33.532612 78 / 100 400\n"
     ]
    },
    {
     "name": "stderr",
     "output_type": "stream",
     "text": [
      "Running evaluation: 359it [00:00, 7877.22it/s]\n"
     ]
    },
    {
     "name": "stdout",
     "output_type": "stream",
     "text": [
      "2024-10-23 11:04:38.928429 79 / 100 786\n"
     ]
    },
    {
     "name": "stderr",
     "output_type": "stream",
     "text": [
      "Running evaluation: 359it [00:00, 8044.08it/s]\n"
     ]
    },
    {
     "name": "stdout",
     "output_type": "stream",
     "text": [
      "2024-10-23 11:04:43.852693 Saving...\n",
      "2024-10-23 11:04:48.295946 80 / 100 186\n"
     ]
    },
    {
     "name": "stderr",
     "output_type": "stream",
     "text": [
      "Running evaluation: 359it [00:00, 8354.12it/s]\n"
     ]
    },
    {
     "name": "stdout",
     "output_type": "stream",
     "text": [
      "2024-10-23 11:04:53.853998 81 / 100 285\n"
     ]
    },
    {
     "name": "stderr",
     "output_type": "stream",
     "text": [
      "Running evaluation: 359it [00:00, 7316.95it/s]\n"
     ]
    },
    {
     "name": "stdout",
     "output_type": "stream",
     "text": [
      "2024-10-23 11:04:58.954862 82 / 100 12\n"
     ]
    },
    {
     "name": "stderr",
     "output_type": "stream",
     "text": [
      "Running evaluation: 359it [00:00, 7884.48it/s]\n"
     ]
    },
    {
     "name": "stdout",
     "output_type": "stream",
     "text": [
      "2024-10-23 11:05:04.032226 83 / 100 88\n"
     ]
    },
    {
     "name": "stderr",
     "output_type": "stream",
     "text": [
      "Running evaluation: 359it [00:00, 7475.14it/s]\n"
     ]
    },
    {
     "name": "stdout",
     "output_type": "stream",
     "text": [
      "2024-10-23 11:05:09.412862 84 / 100 744\n"
     ]
    },
    {
     "name": "stderr",
     "output_type": "stream",
     "text": [
      "Running evaluation: 359it [00:00, 7997.08it/s]\n"
     ]
    },
    {
     "name": "stdout",
     "output_type": "stream",
     "text": [
      "2024-10-23 11:05:14.357971 85 / 100 745\n"
     ]
    },
    {
     "name": "stderr",
     "output_type": "stream",
     "text": [
      "Running evaluation: 359it [00:00, 7945.60it/s]\n"
     ]
    },
    {
     "name": "stdout",
     "output_type": "stream",
     "text": [
      "2024-10-23 11:05:19.515157 86 / 100 13\n"
     ]
    },
    {
     "name": "stderr",
     "output_type": "stream",
     "text": [
      "Running evaluation: 359it [00:00, 7495.50it/s]\n"
     ]
    },
    {
     "name": "stdout",
     "output_type": "stream",
     "text": [
      "2024-10-23 11:05:24.719700 87 / 100 56\n"
     ]
    },
    {
     "name": "stderr",
     "output_type": "stream",
     "text": [
      "Running evaluation: 359it [00:00, 8087.46it/s]\n"
     ]
    },
    {
     "name": "stdout",
     "output_type": "stream",
     "text": [
      "2024-10-23 11:05:30.253612 88 / 100 103\n"
     ]
    },
    {
     "name": "stderr",
     "output_type": "stream",
     "text": [
      "Running evaluation: 359it [00:00, 7351.82it/s]\n"
     ]
    },
    {
     "name": "stdout",
     "output_type": "stream",
     "text": [
      "2024-10-23 11:05:35.362444 89 / 100 737\n"
     ]
    },
    {
     "name": "stderr",
     "output_type": "stream",
     "text": [
      "Running evaluation: 359it [00:00, 7191.01it/s]\n"
     ]
    },
    {
     "name": "stdout",
     "output_type": "stream",
     "text": [
      "2024-10-23 11:05:40.819129 Saving...\n",
      "2024-10-23 11:05:45.782044 90 / 100 484\n"
     ]
    },
    {
     "name": "stderr",
     "output_type": "stream",
     "text": [
      "Running evaluation: 359it [00:00, 7855.98it/s]\n"
     ]
    },
    {
     "name": "stdout",
     "output_type": "stream",
     "text": [
      "2024-10-23 11:05:51.133562 91 / 100 674\n"
     ]
    },
    {
     "name": "stderr",
     "output_type": "stream",
     "text": [
      "Running evaluation: 359it [00:00, 7791.91it/s]\n"
     ]
    },
    {
     "name": "stdout",
     "output_type": "stream",
     "text": [
      "2024-10-23 11:05:56.139350 92 / 100 8\n"
     ]
    },
    {
     "name": "stderr",
     "output_type": "stream",
     "text": [
      "Running evaluation: 359it [00:00, 7786.95it/s]\n"
     ]
    },
    {
     "name": "stdout",
     "output_type": "stream",
     "text": [
      "2024-10-23 11:06:01.249646 93 / 100 92\n"
     ]
    },
    {
     "name": "stderr",
     "output_type": "stream",
     "text": [
      "Running evaluation: 359it [00:00, 6747.70it/s]\n"
     ]
    },
    {
     "name": "stdout",
     "output_type": "stream",
     "text": [
      "2024-10-23 11:06:06.744841 94 / 100 339\n"
     ]
    },
    {
     "name": "stderr",
     "output_type": "stream",
     "text": [
      "Running evaluation: 359it [00:00, 7514.39it/s]\n"
     ]
    },
    {
     "name": "stdout",
     "output_type": "stream",
     "text": [
      "2024-10-23 11:06:11.997977 95 / 100 887\n"
     ]
    },
    {
     "name": "stderr",
     "output_type": "stream",
     "text": [
      "Running evaluation: 359it [00:00, 7622.19it/s]\n"
     ]
    },
    {
     "name": "stdout",
     "output_type": "stream",
     "text": [
      "2024-10-23 11:06:17.473730 96 / 100 42\n"
     ]
    },
    {
     "name": "stderr",
     "output_type": "stream",
     "text": [
      "Running evaluation: 359it [00:00, 7606.71it/s]\n"
     ]
    },
    {
     "name": "stdout",
     "output_type": "stream",
     "text": [
      "2024-10-23 11:06:22.569135 97 / 100 475\n"
     ]
    },
    {
     "name": "stderr",
     "output_type": "stream",
     "text": [
      "Running evaluation: 359it [00:00, 7993.99it/s]\n"
     ]
    },
    {
     "name": "stdout",
     "output_type": "stream",
     "text": [
      "2024-10-23 11:06:27.802895 98 / 100 765\n"
     ]
    },
    {
     "name": "stderr",
     "output_type": "stream",
     "text": [
      "Running evaluation: 359it [00:00, 7557.19it/s]\n"
     ]
    },
    {
     "name": "stdout",
     "output_type": "stream",
     "text": [
      "2024-10-23 11:06:32.951143 99 / 100 716\n"
     ]
    },
    {
     "name": "stderr",
     "output_type": "stream",
     "text": [
      "Running evaluation: 359it [00:00, 7505.51it/s]\n"
     ]
    },
    {
     "name": "stdout",
     "output_type": "stream",
     "text": [
      "2024-10-23 11:06:38.010426 Saving...\n",
      "\n"
     ]
    }
   ],
   "source": [
    "files_list = glob.glob('/home/user/New_Buildings_Datasets/Enernoc/csv-only/processed/*.csv')\n",
    "\n",
    "dataset = 'Enernoc'\n",
    "os.makedirs(f'../forecasts/{dataset}/', exist_ok = True)\n",
    "os.makedirs(f'../results/{dataset}/', exist_ok = True)\n",
    "\n",
    "for filename in files_list:\n",
    "    print(datetime.now(), filename)\n",
    "    results = process_file(filename)\n",
    "    # if results is not None:\n",
    "    #     results.to_csv(f'../forecasts/{dataset}/{os.path.basename(filename)}', index=False)\n",
    "    print('')"
   ]
  },
  {
   "cell_type": "code",
   "execution_count": null,
   "id": "0eb06c1a-933a-4b7b-b270-73e310825abc",
   "metadata": {},
   "outputs": [],
   "source": []
  }
 ],
 "metadata": {
  "kernelspec": {
   "display_name": "Python 3 (ipykernel)",
   "language": "python",
   "name": "python3"
  },
  "language_info": {
   "codemirror_mode": {
    "name": "ipython",
    "version": 3
   },
   "file_extension": ".py",
   "mimetype": "text/x-python",
   "name": "python",
   "nbconvert_exporter": "python",
   "pygments_lexer": "ipython3",
   "version": "3.10.12"
  }
 },
 "nbformat": 4,
 "nbformat_minor": 5
}
