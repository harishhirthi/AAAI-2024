{
 "cells": [
  {
   "cell_type": "code",
   "execution_count": 1,
   "id": "0278572f-a321-4f65-a833-cec9cd87eeda",
   "metadata": {},
   "outputs": [],
   "source": [
    "import pandas as pd\n",
    "import numpy as np\n",
    "import os\n",
    "import glob\n",
    "import matplotlib.pyplot as plt\n",
    "import matplotlib.dates as mdates\n",
    "import seaborn\n",
    "import seaborn as sns"
   ]
  },
  {
   "cell_type": "code",
   "execution_count": 2,
   "id": "8abe9b17-26dd-4262-98b3-adab849ff80f",
   "metadata": {},
   "outputs": [
    {
     "name": "stdout",
     "output_type": "stream",
     "text": [
      "/home/user/energygpt/timesfm_cpu\n"
     ]
    }
   ],
   "source": [
    "!pwd"
   ]
  },
  {
   "cell_type": "code",
   "execution_count": null,
   "id": "0cab9b81-9f0d-4e4e-84b9-83275b4b40bf",
   "metadata": {},
   "outputs": [],
   "source": [
    "# datasets = ['Prayas', 'MFRED', 'NEEA', 'NEST', 'Mathura', 'Bareilly', 'SMART-star-test', 'Ireland']\n",
    "datasets = ['Enernoc', 'IBlend']"
   ]
  },
  {
   "cell_type": "code",
   "execution_count": 4,
   "id": "3b683049-502a-43cc-a9e8-f95db6ca6b42",
   "metadata": {},
   "outputs": [],
   "source": [
    "def load_results(datasets):\n",
    "    results = []\n",
    "    for dataset in datasets:\n",
    "        print(dataset)\n",
    "        df = pd.read_csv(f'/home/user/energygpt/timesfm_cpu/results/{dataset}/results_combined.csv')\n",
    "        df.insert(0, 'dataset', dataset)            \n",
    "        results.append(df)            \n",
    "    results_df = pd.concat(results)\n",
    "    return results_df"
   ]
  },
  {
   "cell_type": "code",
   "execution_count": 5,
   "id": "15086911-e3a1-4d10-bb06-b5db90d660fc",
   "metadata": {
    "scrolled": true
   },
   "outputs": [
    {
     "name": "stdout",
     "output_type": "stream",
     "text": [
      "Enernoc\n",
      "IBlend\n",
      "(109, 13)\n"
     ]
    }
   ],
   "source": [
    "res = load_results(datasets)\n",
    "print(res.shape)"
   ]
  },
  {
   "cell_type": "code",
   "execution_count": 8,
   "id": "cd1fe729-e63f-4c45-a57e-08e1a08ba748",
   "metadata": {},
   "outputs": [
    {
     "data": {
      "text/html": [
       "<div>\n",
       "<style scoped>\n",
       "    .dataframe tbody tr th:only-of-type {\n",
       "        vertical-align: middle;\n",
       "    }\n",
       "\n",
       "    .dataframe tbody tr th {\n",
       "        vertical-align: top;\n",
       "    }\n",
       "\n",
       "    .dataframe thead th {\n",
       "        text-align: right;\n",
       "    }\n",
       "</style>\n",
       "<table border=\"1\" class=\"dataframe\">\n",
       "  <thead>\n",
       "    <tr style=\"text-align: right;\">\n",
       "      <th></th>\n",
       "      <th>sMAPE</th>\n",
       "      <th>nrmse</th>\n",
       "    </tr>\n",
       "  </thead>\n",
       "  <tbody>\n",
       "    <tr>\n",
       "      <th>mean</th>\n",
       "      <td>0.240364</td>\n",
       "      <td>0.287927</td>\n",
       "    </tr>\n",
       "    <tr>\n",
       "      <th>std</th>\n",
       "      <td>0.347953</td>\n",
       "      <td>0.266776</td>\n",
       "    </tr>\n",
       "    <tr>\n",
       "      <th>median</th>\n",
       "      <td>0.082947</td>\n",
       "      <td>0.243028</td>\n",
       "    </tr>\n",
       "  </tbody>\n",
       "</table>\n",
       "</div>"
      ],
      "text/plain": [
       "           sMAPE     nrmse\n",
       "mean    0.240364  0.287927\n",
       "std     0.347953  0.266776\n",
       "median  0.082947  0.243028"
      ]
     },
     "execution_count": 8,
     "metadata": {},
     "output_type": "execute_result"
    }
   ],
   "source": [
    "cols = ['sMAPE', 'nrmse']\n",
    "res_agg1 = res[cols].agg( {'sMAPE': ['mean', 'std', 'median'],\n",
    "                                                        'nrmse': ['mean', 'std', 'median']})\n",
    "res_agg1"
   ]
  },
  {
   "cell_type": "code",
   "execution_count": 9,
   "id": "b0caca4c-401c-4b9c-bc8a-b9fe11398f1a",
   "metadata": {},
   "outputs": [
    {
     "data": {
      "text/html": [
       "<div>\n",
       "<style scoped>\n",
       "    .dataframe tbody tr th:only-of-type {\n",
       "        vertical-align: middle;\n",
       "    }\n",
       "\n",
       "    .dataframe tbody tr th {\n",
       "        vertical-align: top;\n",
       "    }\n",
       "\n",
       "    .dataframe thead th {\n",
       "        text-align: right;\n",
       "    }\n",
       "</style>\n",
       "<table border=\"1\" class=\"dataframe\">\n",
       "  <thead>\n",
       "    <tr style=\"text-align: right;\">\n",
       "      <th></th>\n",
       "      <th>nrmse</th>\n",
       "    </tr>\n",
       "  </thead>\n",
       "  <tbody>\n",
       "    <tr>\n",
       "      <th>mean</th>\n",
       "      <td>28.792676</td>\n",
       "    </tr>\n",
       "    <tr>\n",
       "      <th>std</th>\n",
       "      <td>26.677588</td>\n",
       "    </tr>\n",
       "    <tr>\n",
       "      <th>median</th>\n",
       "      <td>24.302789</td>\n",
       "    </tr>\n",
       "  </tbody>\n",
       "</table>\n",
       "</div>"
      ],
      "text/plain": [
       "            nrmse\n",
       "mean    28.792676\n",
       "std     26.677588\n",
       "median  24.302789"
      ]
     },
     "execution_count": 9,
     "metadata": {},
     "output_type": "execute_result"
    }
   ],
   "source": [
    "cols = [ 'nrmse']\n",
    "res_agg1 = res[cols].agg( {'nrmse': ['mean', 'std', 'median']})\n",
    "res_agg1*100"
   ]
  },
  {
   "cell_type": "code",
   "execution_count": 11,
   "id": "a4ac8dd9-2a8b-400d-baae-97014413c933",
   "metadata": {},
   "outputs": [
    {
     "data": {
      "text/html": [
       "<div>\n",
       "<style scoped>\n",
       "    .dataframe tbody tr th:only-of-type {\n",
       "        vertical-align: middle;\n",
       "    }\n",
       "\n",
       "    .dataframe tbody tr th {\n",
       "        vertical-align: top;\n",
       "    }\n",
       "\n",
       "    .dataframe thead tr th {\n",
       "        text-align: left;\n",
       "    }\n",
       "\n",
       "    .dataframe thead tr:last-of-type th {\n",
       "        text-align: right;\n",
       "    }\n",
       "</style>\n",
       "<table border=\"1\" class=\"dataframe\">\n",
       "  <thead>\n",
       "    <tr>\n",
       "      <th></th>\n",
       "      <th colspan=\"3\" halign=\"left\">nrmse</th>\n",
       "      <th colspan=\"3\" halign=\"left\">nrmse_eve</th>\n",
       "    </tr>\n",
       "    <tr>\n",
       "      <th></th>\n",
       "      <th>mean</th>\n",
       "      <th>std</th>\n",
       "      <th>median</th>\n",
       "      <th>mean</th>\n",
       "      <th>std</th>\n",
       "      <th>median</th>\n",
       "    </tr>\n",
       "    <tr>\n",
       "      <th>dataset</th>\n",
       "      <th></th>\n",
       "      <th></th>\n",
       "      <th></th>\n",
       "      <th></th>\n",
       "      <th></th>\n",
       "      <th></th>\n",
       "    </tr>\n",
       "  </thead>\n",
       "  <tbody>\n",
       "    <tr>\n",
       "      <th>Enernoc</th>\n",
       "      <td>27.01</td>\n",
       "      <td>21.31</td>\n",
       "      <td>23.44</td>\n",
       "      <td>59.28</td>\n",
       "      <td>26.80</td>\n",
       "      <td>61.19</td>\n",
       "    </tr>\n",
       "    <tr>\n",
       "      <th>IBlend</th>\n",
       "      <td>48.55</td>\n",
       "      <td>59.24</td>\n",
       "      <td>30.98</td>\n",
       "      <td>57.69</td>\n",
       "      <td>27.29</td>\n",
       "      <td>52.20</td>\n",
       "    </tr>\n",
       "  </tbody>\n",
       "</table>\n",
       "</div>"
      ],
      "text/plain": [
       "         nrmse               nrmse_eve              \n",
       "          mean    std median      mean    std median\n",
       "dataset                                             \n",
       "Enernoc  27.01  21.31  23.44     59.28  26.80  61.19\n",
       "IBlend   48.55  59.24  30.98     57.69  27.29  52.20"
      ]
     },
     "execution_count": 11,
     "metadata": {},
     "output_type": "execute_result"
    }
   ],
   "source": [
    "cols = ['dataset',  'nrmse', 'nrmse_eve']\n",
    "\n",
    "res_agg1 = res[cols].groupby(['dataset']).agg({ #'sMAPE': ['mean', 'std', 'median'],\n",
    "                                                      'nrmse': ['mean', 'std', 'median'],\n",
    "                                             'nrmse_eve': ['mean', 'std', 'median'] }\n",
    "                                             )\n",
    "res_agg1.mul(100).round(2).to_csv('./results/commercial.csv')\n",
    "res_agg1.mul(100).round(2).to_latex('./results/commercial.tex')\n",
    "res_agg1.mul(100).round(2)"
   ]
  },
  {
   "cell_type": "code",
   "execution_count": 16,
   "id": "0dba421d-8e56-4029-94a7-ef0b21029fa4",
   "metadata": {},
   "outputs": [
    {
     "data": {
      "image/png": "[encoded data removed]",
      "text/plain": [
       "<Figure size 500x330 with 1 Axes>"
      ]
     },
     "metadata": {},
     "output_type": "display_data"
    }
   ],
   "source": [
    "# sns.set(font_scale=1)  # crazy big\n",
    "sns.set_theme(style=\"whitegrid\", font_scale=1.16)\n",
    "\n",
    "\n",
    "date_formater = mdates.DateFormatter('%b, %d')\n",
    "# plt.rcParams.update({'font.size': 14})\n",
    "plt.rcParams[\"font.family\"] = \"serif\"\n",
    "plt.rcParams[\"figure.figsize\"] = (5, 3.3)\n",
    "plt.rcParams['pdf.fonttype'] = 42\n",
    "plt.rcParams['ps.fonttype'] = 42\n",
    "\n",
    "# plt.figure(figsize=(3, 3))\n",
    "fig, ax = plt.subplots()\n",
    "\n",
    "copy_df = res['nrmse'].reset_index()\n",
    "all_df = pd.DataFrame(copy_df['nrmse'] * 100)\n",
    "#assembly_df\n",
    "all_df['cdf'] = all_df.rank(method = 'average', pct = True)\n",
    "# all_df.sort_values('NRMSE').plot(x = 'NRMSE', y = 'cdf', grid = True, color='black')\n",
    "ax_c = seaborn.ecdfplot(data=all_df.sort_values('nrmse'), x=\"nrmse\", ax=ax, color='black', lw=1.5)\n",
    "# median = all_df.sort_values('NRMSE').quantile(0.5)\n",
    "# plt.scatter(x = median['NRMSE'], y = median['cdf'], color = 'red')\n",
    "# #plt.text(x = xmedian['NRMSE'], median['cdf'])\n",
    "# plt.text(median['NRMSE'],  median['cdf'], '({}, {})'.format(median['NRMSE'].round(2),  median['cdf'].round(2)))\n",
    "# q_25 = all_df.sort_values('NRMSE').quantile(0.25)\n",
    "# plt.scatter(x = q_25['NRMSE'], y = q_25['cdf'], color = 'red')\n",
    "# plt.text(q_25['NRMSE'],  q_25['cdf'], '({}, {})'.format(q_25['NRMSE'].round(2),  q_25['cdf'].round(2)))\n",
    "# q_75 = all_df.sort_values('NRMSE').quantile(0.75)\n",
    "# plt.scatter(x = q_75['NRMSE'], y = q_75['cdf'], color = 'red')\n",
    "# plt.text(q_75['NRMSE'],  q_75['cdf'], '({}, {})'.format(q_75['NRMSE'].round(2),  q_75['cdf'].round(2)))\n",
    "# q_90 = all_df.sort_values('NRMSE').quantile(0.9)\n",
    "# plt.scatter(x = q_90['NRMSE'], y = q_90['cdf'], color = 'red')\n",
    "# plt.text(q_90['NRMSE'],  q_90['cdf'], '({}, {})'.format(q_90['NRMSE'].round(2),  q_90['cdf'].round(2)))\n",
    "copy_df = res.reset_index()\n",
    "copy_df['nrmse'] = copy_df['nrmse'] * 100\n",
    "copy_df = copy_df.sort_values('nrmse')\n",
    "# name = ['Mean', 'LCL', 'BOREALIS', 'IDEAL', 'SMART', 'SCEAUX']\n",
    "ax_s = seaborn.ecdfplot(data=copy_df, x=\"nrmse\", hue='dataset', ax=ax, lw=2.5)\n",
    "\n",
    "\n",
    "for lines, linestyle, legend_handle in zip(ax.lines[::-1], ['--', '-', 'dashdot'], ax.legend_.legend_handles):\n",
    "    lines.set_linestyle(linestyle)\n",
    "    legend_handle.set_linestyle(linestyle)\n",
    "\n",
    "#plt.xlim(0,80)\n",
    "# ax_s.set_xscale('log')\n",
    "# ax_s.set_xlim(0, 450)\n",
    "# ax.legend(labels=name)\n",
    "sns.move_legend(ax, \"lower right\", title='', labelspacing=0.05, frameon=False)\n",
    "\n",
    "plt.title(label='')\n",
    "# plt.legend()\n",
    "plt.ylabel(\"CDF\")\n",
    "#plt.ylim(0,125)\n",
    "plt.xlabel(\"NRMSE\")\n",
    "#plt.xticks(rotation=90)\n",
    "plt.grid(axis='y')\n",
    "plt.gcf().tight_layout()\n",
    "\n",
    "plt.subplots_adjust(wspace=0.05, hspace=0)\n",
    "# plt.savefig(\"Plots/TimesFM-commercial-error-cdfplot.pdf\", bbox_inches='tight')\n",
    "plt.show()"
   ]
  }
 ],
 "metadata": {
  "kernelspec": {
   "display_name": "Python 3 (ipykernel)",
   "language": "python",
   "name": "python3"
  },
  "language_info": {
   "codemirror_mode": {
    "name": "ipython",
    "version": 3
   },
   "file_extension": ".py",
   "mimetype": "text/x-python",
   "name": "python",
   "nbconvert_exporter": "python",
   "pygments_lexer": "ipython3",
   "version": "3.10.14"
  }
 },
 "nbformat": 4,
 "nbformat_minor": 5
}
